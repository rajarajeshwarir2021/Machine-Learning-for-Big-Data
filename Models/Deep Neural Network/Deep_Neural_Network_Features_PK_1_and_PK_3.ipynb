{
 "cells": [
  {
   "cell_type": "code",
   "execution_count": 1,
   "metadata": {},
   "outputs": [],
   "source": [
    "# Machine Learning Model for 'Geld ausgegeben' prediction over other parameters of Einkaufsstatistik\n",
    "\n",
    "# Importing the libraries\n",
    "\n",
    "# Load numpy\n",
    "import numpy as np\n",
    "\n",
    "# Load pandas\n",
    "import pandas as pd\n",
    "\n",
    "# Plotting library\n",
    "import seaborn as sns\n",
    "import matplotlib.pyplot as plt\n",
    "\n",
    "# sklearn library\n",
    "from sklearn.ensemble import RandomForestRegressor\n",
    "from sklearn.model_selection import train_test_split\n",
    "from sklearn.metrics import mean_absolute_error \n",
    "from sklearn.preprocessing import StandardScaler\n",
    "\n",
    "# render plots in jupyter notebook\n",
    "%matplotlib inline"
   ]
  },
  {
   "cell_type": "code",
   "execution_count": 2,
   "metadata": {},
   "outputs": [
    {
     "name": "stderr",
     "output_type": "stream",
     "text": [
      "Using TensorFlow backend.\n"
     ]
    }
   ],
   "source": [
    "# Importing the dependencies\n",
    "from keras.callbacks import ModelCheckpoint\n",
    "from keras.models import Sequential\n",
    "from keras.layers import Dense, Activation, Flatten\n",
    "import warnings \n",
    "warnings.filterwarnings('ignore')\n",
    "warnings.filterwarnings('ignore', category=DeprecationWarning)"
   ]
  },
  {
   "cell_type": "code",
   "execution_count": 3,
   "metadata": {},
   "outputs": [],
   "source": [
    "# Importing the dataset\n",
    "dataset = pd.read_csv('Preprocessed_data.csv')"
   ]
  },
  {
   "cell_type": "code",
   "execution_count": 4,
   "metadata": {},
   "outputs": [],
   "source": [
    "# Modelling\n",
    "\n",
    "# X and y arrays\n",
    "X = dataset[['Produkt_Kategorie_1', 'Produkt_Kategorie_3']]\n",
    "y = dataset['Geld_ausgegeben']\n",
    "\n",
    "# Train Test Split\n",
    "X_train, X_test, y_train, y_test = train_test_split(X, y, test_size=0.20)\n",
    "\n",
    "sc = StandardScaler()\n",
    "X_train = sc.fit_transform(X_train)\n",
    "X_test = sc.transform(X_test)"
   ]
  },
  {
   "cell_type": "code",
   "execution_count": 5,
   "metadata": {},
   "outputs": [
    {
     "name": "stdout",
     "output_type": "stream",
     "text": [
      "Model: \"sequential_1\"\n",
      "_________________________________________________________________\n",
      "Layer (type)                 Output Shape              Param #   \n",
      "=================================================================\n",
      "dense_1 (Dense)              (None, 128)               384       \n",
      "_________________________________________________________________\n",
      "dense_2 (Dense)              (None, 256)               33024     \n",
      "_________________________________________________________________\n",
      "dense_3 (Dense)              (None, 256)               65792     \n",
      "_________________________________________________________________\n",
      "dense_4 (Dense)              (None, 256)               65792     \n",
      "_________________________________________________________________\n",
      "dense_5 (Dense)              (None, 1)                 257       \n",
      "=================================================================\n",
      "Total params: 165,249\n",
      "Trainable params: 165,249\n",
      "Non-trainable params: 0\n",
      "_________________________________________________________________\n"
     ]
    }
   ],
   "source": [
    "# Creating and Training the Model\n",
    "\n",
    "# Initialising the DNN\n",
    "NN_model = Sequential()\n",
    "\n",
    "# The Input Layer :\n",
    "NN_model.add(Dense(128, kernel_initializer='normal',input_dim = X_train.shape[1], activation='relu'))\n",
    "\n",
    "# The Hidden Layers :\n",
    "NN_model.add(Dense(256, kernel_initializer='normal',activation='relu'))\n",
    "NN_model.add(Dense(256, kernel_initializer='normal',activation='relu'))\n",
    "NN_model.add(Dense(256, kernel_initializer='normal',activation='relu'))\n",
    "\n",
    "# The Output Layer :\n",
    "NN_model.add(Dense(1, kernel_initializer='normal',activation='linear'))\n",
    "\n",
    "# Compile the network :\n",
    "NN_model.compile(loss='mean_absolute_error', optimizer='adam', metrics=['mean_absolute_error'])\n",
    "NN_model.summary()\n"
   ]
  },
  {
   "cell_type": "code",
   "execution_count": 6,
   "metadata": {},
   "outputs": [],
   "source": [
    "# Define a checkpoint callback\n",
    "checkpoint_name = 'Weights_Deep_Neural_Network_Features_PK_1_and_PK_3-{epoch:03d}--{val_loss:.5f}.hdf5' \n",
    "checkpoint = ModelCheckpoint(checkpoint_name, monitor='val_loss', verbose = 1, save_best_only = True, mode ='auto')\n",
    "callbacks_list = [checkpoint]"
   ]
  },
  {
   "cell_type": "code",
   "execution_count": 7,
   "metadata": {},
   "outputs": [
    {
     "name": "stdout",
     "output_type": "stream",
     "text": [
      "Train on 320000 samples, validate on 80000 samples\n",
      "Epoch 1/50\n",
      "320000/320000 [==============================] - 212s 662us/step - loss: 2828.9113 - mean_absolute_error: 2828.9106 - val_loss: 2591.4343 - val_mean_absolute_error: 2591.4326\n",
      "\n",
      "Epoch 00001: val_loss improved from inf to 2591.43428, saving model to Weights_Deep_Neural_Network_Features_PK_1_and_PK_3-001--2591.43428.hdf5\n",
      "Epoch 2/50\n",
      "320000/320000 [==============================] - 212s 663us/step - loss: 2438.2164 - mean_absolute_error: 2438.2095 - val_loss: 2441.3606 - val_mean_absolute_error: 2441.3601\n",
      "\n",
      "Epoch 00002: val_loss improved from 2591.43428 to 2441.36056, saving model to Weights_Deep_Neural_Network_Features_PK_1_and_PK_3-002--2441.36056.hdf5\n",
      "Epoch 3/50\n",
      "320000/320000 [==============================] - 218s 682us/step - loss: 2385.3891 - mean_absolute_error: 2385.4006 - val_loss: 2363.4322 - val_mean_absolute_error: 2363.4341\n",
      "\n",
      "Epoch 00003: val_loss improved from 2441.36056 to 2363.43223, saving model to Weights_Deep_Neural_Network_Features_PK_1_and_PK_3-003--2363.43223.hdf5\n",
      "Epoch 4/50\n",
      "320000/320000 [==============================] - 201s 629us/step - loss: 2339.6964 - mean_absolute_error: 2339.7083 - val_loss: 2339.8870 - val_mean_absolute_error: 2339.8840\n",
      "\n",
      "Epoch 00004: val_loss improved from 2363.43223 to 2339.88700, saving model to Weights_Deep_Neural_Network_Features_PK_1_and_PK_3-004--2339.88700.hdf5\n",
      "Epoch 5/50\n",
      "320000/320000 [==============================] - 199s 622us/step - loss: 2299.1316 - mean_absolute_error: 2299.1296 - val_loss: 2255.4018 - val_mean_absolute_error: 2255.4065\n",
      "\n",
      "Epoch 00005: val_loss improved from 2339.88700 to 2255.40176, saving model to Weights_Deep_Neural_Network_Features_PK_1_and_PK_3-005--2255.40176.hdf5\n",
      "Epoch 6/50\n",
      "320000/320000 [==============================] - 200s 626us/step - loss: 2283.7469 - mean_absolute_error: 2283.7495 - val_loss: 2300.2794 - val_mean_absolute_error: 2300.2805\n",
      "\n",
      "Epoch 00006: val_loss did not improve from 2255.40176\n",
      "Epoch 7/50\n",
      "320000/320000 [==============================] - 193s 602us/step - loss: 2266.4686 - mean_absolute_error: 2266.4673 - val_loss: 2264.0845 - val_mean_absolute_error: 2264.0872\n",
      "\n",
      "Epoch 00007: val_loss did not improve from 2255.40176\n",
      "Epoch 8/50\n",
      "320000/320000 [==============================] - 195s 610us/step - loss: 2252.4508 - mean_absolute_error: 2252.4507 - val_loss: 2230.1289 - val_mean_absolute_error: 2230.1343\n",
      "\n",
      "Epoch 00008: val_loss improved from 2255.40176 to 2230.12894, saving model to Weights_Deep_Neural_Network_Features_PK_1_and_PK_3-008--2230.12894.hdf5\n",
      "Epoch 9/50\n",
      "320000/320000 [==============================] - 176s 551us/step - loss: 2245.6921 - mean_absolute_error: 2245.6943 - val_loss: 2258.5958 - val_mean_absolute_error: 2258.5947\n",
      "\n",
      "Epoch 00009: val_loss did not improve from 2230.12894\n",
      "Epoch 10/50\n",
      "320000/320000 [==============================] - 183s 572us/step - loss: 2241.8810 - mean_absolute_error: 2241.8843 - val_loss: 2212.1509 - val_mean_absolute_error: 2212.1577\n",
      "\n",
      "Epoch 00010: val_loss improved from 2230.12894 to 2212.15089, saving model to Weights_Deep_Neural_Network_Features_PK_1_and_PK_3-010--2212.15089.hdf5\n",
      "Epoch 11/50\n",
      "320000/320000 [==============================] - 189s 591us/step - loss: 2237.2095 - mean_absolute_error: 2237.2170 - val_loss: 2222.2229 - val_mean_absolute_error: 2222.2207\n",
      "\n",
      "Epoch 00011: val_loss did not improve from 2212.15089\n",
      "Epoch 12/50\n",
      "320000/320000 [==============================] - 152s 475us/step - loss: 2214.7646 - mean_absolute_error: 2214.7539 - val_loss: 2204.2688 - val_mean_absolute_error: 2204.2671\n",
      "\n",
      "Epoch 00031: val_loss improved from 2204.65008 to 2204.26882, saving model to Weights_Deep_Neural_Network_Features_PK_1_and_PK_3-031--2204.26882.hdf5\n",
      "Epoch 32/50\n",
      "320000/320000 [==============================] - 150s 470us/step - loss: 2209.4614 - mean_absolute_error: 2209.4656 - val_loss: 2212.4014 - val_mean_absolute_error: 2212.4036\n",
      "\n",
      "Epoch 00043: val_loss did not improve from 2199.72013\n",
      "Epoch 44/50\n",
      "320000/320000 [==============================] - 151s 471us/step - loss: 2209.1122 - mean_absolute_error: 2209.1035 - val_loss: 2201.9095 - val_mean_absolute_error: 2201.9092\n",
      "\n",
      "Epoch 00044: val_loss did not improve from 2199.72013\n",
      "Epoch 45/50\n",
      "320000/320000 [==============================] - 150s 469us/step - loss: 2209.0859 - mean_absolute_error: 2209.0918 - val_loss: 2209.9575 - val_mean_absolute_error: 2209.9546\n",
      "\n",
      "Epoch 00045: val_loss did not improve from 2199.72013\n",
      "Epoch 46/50\n",
      "320000/320000 [==============================] - 149s 466us/step - loss: 2208.6869 - mean_absolute_error: 2208.6897 - val_loss: 2225.5662 - val_mean_absolute_error: 2225.5669\n",
      "\n",
      "Epoch 00046: val_loss did not improve from 2199.72013\n",
      "Epoch 47/50\n",
      "320000/320000 [==============================] - 151s 472us/step - loss: 2207.4006 - mean_absolute_error: 2207.4080 - val_loss: 2207.8233 - val_mean_absolute_error: 2207.8230\n",
      "\n",
      "Epoch 00049: val_loss did not improve from 2199.72013\n",
      "Epoch 50/50\n",
      "274000/320000 [========================>.....] - ETA: 19s - loss: 2210.0004 - mean_absolute_error: 2209.9971"
     ]
    }
   ],
   "source": [
    "# Train the model\n",
    "NN_model.fit(X_train, y_train, epochs=50, batch_size=10, validation_split = 0.2, callbacks=callbacks_list)"
   ]
  },
  {
   "cell_type": "code",
   "execution_count": 9,
   "metadata": {},
   "outputs": [],
   "source": [
    "# Load weights file of the best model :\n",
    "# weights_file = 'Weights_Deep_Neural_Network_Features_PK_1_and_PK_3-48--18738.19831.hdf5' # choose the best checkpoint \n",
    "# NN_model.load_weights(wights_file) # load it\n",
    "NN_model.compile(loss='mean_absolute_error', optimizer='adam', metrics=['mean_absolute_error'])"
   ]
  },
  {
   "cell_type": "code",
   "execution_count": 10,
   "metadata": {},
   "outputs": [
    {
     "data": {
      "text/plain": [
       "<matplotlib.collections.PathCollection at 0x21cc7a26cc8>"
      ]
     },
     "execution_count": 10,
     "metadata": {},
     "output_type": "execute_result"
    },
    {
     "data": {
      "image/png": "[encoded data removed]",
      "text/plain": [
       "<Figure size 432x288 with 1 Axes>"
      ]
     },
     "metadata": {
      "needs_background": "light"
     },
     "output_type": "display_data"
    }
   ],
   "source": [
    "# Predictions from our Model\n",
    "predictions = NN_model.predict(X_test)\n",
    "plt.scatter(y_test,predictions)"
   ]
  },
  {
   "cell_type": "code",
   "execution_count": 11,
   "metadata": {},
   "outputs": [
    {
     "data": {
      "image/png": "[encoded data removed]",
      "text/plain": [
       "<Figure size 432x288 with 1 Axes>"
      ]
     },
     "metadata": {
      "needs_background": "light"
     },
     "output_type": "display_data"
    }
   ],
   "source": [
    "plt.plot(y_test, color = 'red', label = 'Real data')\n",
    "plt.plot(predictions, color = 'blue', label = 'Predicted data')\n",
    "plt.title('Prediction')\n",
    "plt.legend()\n",
    "plt.show()"
   ]
  },
  {
   "cell_type": "code",
   "execution_count": 12,
   "metadata": {},
   "outputs": [],
   "source": [
    "# sns.distplot((y_test-predictions),bins=50);"
   ]
  },
  {
   "cell_type": "code",
   "execution_count": 13,
   "metadata": {},
   "outputs": [
    {
     "name": "stdout",
     "output_type": "stream",
     "text": [
      "MAE: 2195.2240909270336\n",
      "MSE: 10000492.05053657\n",
      "RMSE: 3162.3554592323376\n",
      "R2_Score: 0.6033130901976886\n"
     ]
    }
   ],
   "source": [
    "from sklearn import metrics\n",
    "print('MAE:', metrics.mean_absolute_error(y_test, predictions))\n",
    "print('MSE:', metrics.mean_squared_error(y_test, predictions))\n",
    "print('RMSE:', np.sqrt(metrics.mean_squared_error(y_test, predictions)))\n",
    "print('R2_Score:', metrics.r2_score(y_test, predictions))"
   ]
  },
  {
   "cell_type": "code",
   "execution_count": null,
   "metadata": {},
   "outputs": [],
   "source": []
  }
 ],
 "metadata": {
  "kernelspec": {
   "display_name": "Python 3",
   "language": "python",
   "name": "python3"
  },
  "language_info": {
   "codemirror_mode": {
    "name": "ipython",
    "version": 3
   },
   "file_extension": ".py",
   "mimetype": "text/x-python",
   "name": "python",
   "nbconvert_exporter": "python",
   "pygments_lexer": "ipython3",
   "version": "3.7.6"
  }
 },
 "nbformat": 4,
 "nbformat_minor": 4
}
