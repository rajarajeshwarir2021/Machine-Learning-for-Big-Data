{
 "cells": [
  {
   "cell_type": "code",
   "execution_count": 1,
   "metadata": {},
   "outputs": [],
   "source": [
    "# Machine Learning Model for 'Geld ausgegeben' prediction over other parameters of Einkaufsstatistik\n",
    "\n",
    "# Importing the libraries\n",
    "\n",
    "# Load numpy\n",
    "import numpy as np\n",
    "\n",
    "# Load pandas\n",
    "import pandas as pd\n",
    "\n",
    "# Plotting library\n",
    "import seaborn as sns\n",
    "import matplotlib.pyplot as plt\n",
    "\n",
    "# sklearn library\n",
    "from sklearn.ensemble import RandomForestRegressor\n",
    "from sklearn.model_selection import train_test_split\n",
    "from sklearn.metrics import mean_absolute_error \n",
    "from sklearn.preprocessing import StandardScaler\n",
    "\n",
    "# render plots in jupyter notebook\n",
    "%matplotlib inline"
   ]
  },
  {
   "cell_type": "code",
   "execution_count": 2,
   "metadata": {},
   "outputs": [
    {
     "name": "stderr",
     "output_type": "stream",
     "text": [
      "Using TensorFlow backend.\n"
     ]
    }
   ],
   "source": [
    "# Importing the dependencies\n",
    "from keras.callbacks import ModelCheckpoint\n",
    "from keras.models import Sequential\n",
    "from keras.layers import Dense, Activation, Flatten\n",
    "import warnings \n",
    "warnings.filterwarnings('ignore')\n",
    "warnings.filterwarnings('ignore', category=DeprecationWarning)"
   ]
  },
  {
   "cell_type": "code",
   "execution_count": 3,
   "metadata": {},
   "outputs": [],
   "source": [
    "# Importing the dataset\n",
    "dataset = pd.read_csv('Preprocessed_data.csv')"
   ]
  },
  {
   "cell_type": "code",
   "execution_count": 4,
   "metadata": {},
   "outputs": [],
   "source": [
    "# Modelling\n",
    "\n",
    "# X and y arrays\n",
    "X = dataset[['KaeuferID', 'Familienstand', '18-25', '26-35', '36-45', '46-50']]\n",
    "y = dataset['Geld_ausgegeben']\n",
    "\n",
    "# Train Test Split\n",
    "X_train, X_test, y_train, y_test = train_test_split(X, y, test_size=0.20)\n",
    "\n",
    "sc = StandardScaler()\n",
    "X_train = sc.fit_transform(X_train)\n",
    "X_test = sc.transform(X_test)"
   ]
  },
  {
   "cell_type": "code",
   "execution_count": 5,
   "metadata": {},
   "outputs": [
    {
     "name": "stdout",
     "output_type": "stream",
     "text": [
      "Model: \"sequential_1\"\n",
      "_________________________________________________________________\n",
      "Layer (type)                 Output Shape              Param #   \n",
      "=================================================================\n",
      "dense_1 (Dense)              (None, 128)               896       \n",
      "_________________________________________________________________\n",
      "dense_2 (Dense)              (None, 256)               33024     \n",
      "_________________________________________________________________\n",
      "dense_3 (Dense)              (None, 256)               65792     \n",
      "_________________________________________________________________\n",
      "dense_4 (Dense)              (None, 256)               65792     \n",
      "_________________________________________________________________\n",
      "dense_5 (Dense)              (None, 1)                 257       \n",
      "=================================================================\n",
      "Total params: 165,761\n",
      "Trainable params: 165,761\n",
      "Non-trainable params: 0\n",
      "_________________________________________________________________\n"
     ]
    }
   ],
   "source": [
    "# Creating and Training the Model\n",
    "\n",
    "# Initialising the DNN\n",
    "NN_model = Sequential()\n",
    "\n",
    "# The Input Layer :\n",
    "NN_model.add(Dense(128, kernel_initializer='normal',input_dim = X_train.shape[1], activation='relu'))\n",
    "\n",
    "# The Hidden Layers :\n",
    "NN_model.add(Dense(256, kernel_initializer='normal',activation='relu'))\n",
    "NN_model.add(Dense(256, kernel_initializer='normal',activation='relu'))\n",
    "NN_model.add(Dense(256, kernel_initializer='normal',activation='relu'))\n",
    "\n",
    "# The Output Layer :\n",
    "NN_model.add(Dense(1, kernel_initializer='normal',activation='linear'))\n",
    "\n",
    "# Compile the network :\n",
    "NN_model.compile(loss='mean_absolute_error', optimizer='adam', metrics=['mean_absolute_error'])\n",
    "NN_model.summary()\n"
   ]
  },
  {
   "cell_type": "code",
   "execution_count": 6,
   "metadata": {},
   "outputs": [],
   "source": [
    "# Define a checkpoint callback\n",
    "checkpoint_name = 'Weights_Deep_Neural_Network_Features_Third_Tier-{epoch:03d}--{val_loss:.5f}.hdf5' \n",
    "checkpoint = ModelCheckpoint(checkpoint_name, monitor='val_loss', verbose = 1, save_best_only = True, mode ='auto')\n",
    "callbacks_list = [checkpoint]"
   ]
  },
  {
   "cell_type": "code",
   "execution_count": 7,
   "metadata": {},
   "outputs": [
    {
     "name": "stdout",
     "output_type": "stream",
     "text": [
      "Train on 320000 samples, validate on 80000 samples\n",
      "Epoch 1/50\n",
      "320000/320000 [==============================] - 214s 668us/step - loss: 3972.4940 - mean_absolute_error: 3972.4863 - val_loss: 3947.3209 - val_mean_absolute_error: 3947.3196\n",
      "\n",
      "Epoch 00001: val_loss improved from inf to 3947.32091, saving model to Weights_Deep_Neural_Network_Features_Third_Tier-001--3947.32091.hdf5\n",
      "Epoch 2/50\n",
      "320000/320000 [==============================] - 206s 645us/step - loss: 3950.2343 - mean_absolute_error: 3950.2388 - val_loss: 3943.8690 - val_mean_absolute_error: 3943.8823\n",
      "\n",
      "Epoch 00002: val_loss improved from 3947.32091 to 3943.86899, saving model to Weights_Deep_Neural_Network_Features_Third_Tier-002--3943.86899.hdf5\n",
      "Epoch 3/50\n",
      "320000/320000 [==============================] - 221s 690us/step - loss: 3942.4168 - mean_absolute_error: 3942.4253 - val_loss: 3917.5854 - val_mean_absolute_error: 3917.5920\n",
      "\n",
      "Epoch 00003: val_loss improved from 3943.86899 to 3917.58540, saving model to Weights_Deep_Neural_Network_Features_Third_Tier-003--3917.58540.hdf5\n",
      "Epoch 4/50\n",
      "320000/320000 [==============================] - 194s 608us/step - loss: 3939.2561 - mean_absolute_error: 3939.2576 - val_loss: 3916.4660 - val_mean_absolute_error: 3916.4600\n",
      "\n",
      "Epoch 00004: val_loss improved from 3917.58540 to 3916.46603, saving model to Weights_Deep_Neural_Network_Features_Third_Tier-004--3916.46603.hdf5\n",
      "Epoch 5/50\n",
      "320000/320000 [==============================] - 197s 617us/step - loss: 3935.3124 - mean_absolute_error: 3935.3257 - val_loss: 3922.3643 - val_mean_absolute_error: 3922.3684\n",
      "\n",
      "Epoch 00005: val_loss did not improve from 3916.46603\n",
      "Epoch 6/50\n",
      "320000/320000 [==============================] - 197s 614us/step - loss: 3933.7618 - mean_absolute_error: 3933.7476 - val_loss: 3925.3590 - val_mean_absolute_error: 3925.3640\n",
      "\n",
      "Epoch 00006: val_loss did not improve from 3916.46603\n",
      "Epoch 7/50\n",
      "320000/320000 [==============================] - 194s 606us/step - loss: 3932.1981 - mean_absolute_error: 3932.1997 - val_loss: 3924.5261 - val_mean_absolute_error: 3924.5256\n",
      "\n",
      "Epoch 00007: val_loss did not improve from 3916.46603\n",
      "Epoch 8/50\n",
      "320000/320000 [==============================] - 189s 592us/step - loss: 3931.5143 - mean_absolute_error: 3931.5144 - val_loss: 3916.7398 - val_mean_absolute_error: 3916.7349\n",
      "\n",
      "Epoch 00008: val_loss did not improve from 3916.46603\n",
      "Epoch 9/50\n",
      "320000/320000 [==============================] - 177s 552us/step - loss: 3930.4087 - mean_absolute_error: 3930.3748 - val_loss: 3937.5318 - val_mean_absolute_error: 3937.5369\n",
      "\n",
      "Epoch 00009: val_loss did not improve from 3916.46603\n",
      "Epoch 10/50\n",
      "320000/320000 [==============================] - 183s 573us/step - loss: 3929.2901 - mean_absolute_error: 3929.2871 - val_loss: 3911.2737 - val_mean_absolute_error: 3911.2712\n",
      "\n",
      "Epoch 00010: val_loss improved from 3916.46603 to 3911.27372, saving model to Weights_Deep_Neural_Network_Features_Third_Tier-010--3911.27372.hdf5\n",
      "Epoch 11/50\n",
      "320000/320000 [==============================] - 184s 575us/step - loss: 3928.5972 - mean_absolute_error: 3928.5989 - val_loss: 3907.9156 - val_mean_absolute_error: 3907.9092\n",
      "\n",
      "Epoch 00011: val_loss improved from 3911.27372 to 3907.91564, saving model to Weights_Deep_Neural_Network_Features_Third_Tier-011--3907.91564.hdf5\n",
      "Epoch 12/50\n",
      "320000/320000 [==============================] - 155s 486us/step - loss: 3922.9043 - mean_absolute_error: 3922.8987 - val_loss: 3907.8354 - val_mean_absolute_error: 3907.8389\n",
      "\n",
      "Epoch 00030: val_loss did not improve from 3906.93522\n",
      "Epoch 31/50\n",
      "320000/320000 [==============================] - 152s 476us/step - loss: 3920.8682 - mean_absolute_error: 3920.8667 - val_loss: 3914.2347 - val_mean_absolute_error: 3914.2424\n",
      "\n",
      "Epoch 00036: val_loss did not improve from 3906.93522\n",
      "Epoch 37/50\n",
      "320000/320000 [==============================] - 151s 472us/step - loss: 3919.3102 - mean_absolute_error: 3919.3120 - val_loss: 3909.2876 - val_mean_absolute_error: 3909.2832\n",
      "\n",
      "Epoch 00049: val_loss did not improve from 3906.60694\n",
      "Epoch 50/50\n",
      "320000/320000 [==============================] - 112s 351us/step - loss: 3919.4379 - mean_absolute_error: 3919.4204 - val_loss: 3910.1274 - val_mean_absolute_error: 3910.1240\n",
      "\n",
      "Epoch 00050: val_loss did not improve from 3906.60694\n"
     ]
    },
    {
     "data": {
      "text/plain": [
       "<keras.callbacks.callbacks.History at 0x2014999d6c8>"
      ]
     },
     "execution_count": 7,
     "metadata": {},
     "output_type": "execute_result"
    }
   ],
   "source": [
    "# Train the model\n",
    "NN_model.fit(X_train, y_train, epochs=50, batch_size=10, validation_split = 0.2, callbacks=callbacks_list)"
   ]
  },
  {
   "cell_type": "code",
   "execution_count": 9,
   "metadata": {},
   "outputs": [],
   "source": [
    "# Load weights file of the best model :\n",
    "# weights_file = 'Weights_Deep_Neural_Network_Features_Third_Tier-48--18738.19831.hdf5' # choose the best checkpoint \n",
    "# NN_model.load_weights(weights_file) # load it\n",
    "NN_model.compile(loss='mean_absolute_error', optimizer='adam', metrics=['mean_absolute_error'])"
   ]
  },
  {
   "cell_type": "code",
   "execution_count": 10,
   "metadata": {},
   "outputs": [
    {
     "data": {
      "text/plain": [
       "<matplotlib.collections.PathCollection at 0x20149fead48>"
      ]
     },
     "execution_count": 10,
     "metadata": {},
     "output_type": "execute_result"
    },
    {
     "data": {
      "image/png": "[encoded data removed]",
      "text/plain": [
       "<Figure size 432x288 with 1 Axes>"
      ]
     },
     "metadata": {
      "needs_background": "light"
     },
     "output_type": "display_data"
    }
   ],
   "source": [
    "# Predictions from our Model\n",
    "predictions = NN_model.predict(X_test)\n",
    "plt.scatter(y_test,predictions)"
   ]
  },
  {
   "cell_type": "code",
   "execution_count": 11,
   "metadata": {},
   "outputs": [
    {
     "data": {
      "image/png": "[encoded data removed]",
      "text/plain": [
       "<Figure size 432x288 with 1 Axes>"
      ]
     },
     "metadata": {
      "needs_background": "light"
     },
     "output_type": "display_data"
    }
   ],
   "source": [
    "plt.plot(y_test, color = 'red', label = 'Real data')\n",
    "plt.plot(predictions, color = 'blue', label = 'Predicted data')\n",
    "plt.title('Prediction')\n",
    "plt.legend()\n",
    "plt.show()"
   ]
  },
  {
   "cell_type": "code",
   "execution_count": 12,
   "metadata": {},
   "outputs": [],
   "source": [
    "# sns.distplot((y_test-predictions),bins=50);"
   ]
  },
  {
   "cell_type": "code",
   "execution_count": 13,
   "metadata": {},
   "outputs": [
    {
     "name": "stdout",
     "output_type": "stream",
     "text": [
      "MAE: 3927.52190046875\n",
      "MSE: 26543850.907048736\n",
      "RMSE: 5152.0724865871925\n",
      "R2_Score: -0.04653628572495894\n"
     ]
    }
   ],
   "source": [
    "from sklearn import metrics\n",
    "print('MAE:', metrics.mean_absolute_error(y_test, predictions))\n",
    "print('MSE:', metrics.mean_squared_error(y_test, predictions))\n",
    "print('RMSE:', np.sqrt(metrics.mean_squared_error(y_test, predictions)))\n",
    "print('R2_Score:', metrics.r2_score(y_test, predictions))"
   ]
  },
  {
   "cell_type": "code",
   "execution_count": null,
   "metadata": {},
   "outputs": [],
   "source": []
  }
 ],
 "metadata": {
  "kernelspec": {
   "display_name": "Python 3",
   "language": "python",
   "name": "python3"
  },
  "language_info": {
   "codemirror_mode": {
    "name": "ipython",
    "version": 3
   },
   "file_extension": ".py",
   "mimetype": "text/x-python",
   "name": "python",
   "nbconvert_exporter": "python",
   "pygments_lexer": "ipython3",
   "version": "3.7.6"
  }
 },
 "nbformat": 4,
 "nbformat_minor": 4
}
