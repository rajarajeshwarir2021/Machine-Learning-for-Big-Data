{
 "cells": [
  {
   "cell_type": "code",
   "execution_count": 1,
   "metadata": {},
   "outputs": [],
   "source": [
    "# Machine Learning Model for 'Geld ausgegeben' prediction over other parameters of Einkaufsstatistik\n",
    "\n",
    "# Importing the libraries\n",
    "\n",
    "# Load numpy\n",
    "import numpy as np\n",
    "\n",
    "# Load pandas\n",
    "import pandas as pd\n",
    "\n",
    "# Plotting library\n",
    "import seaborn as sns\n",
    "import matplotlib.pyplot as plt\n",
    "\n",
    "# sklearn library\n",
    "from sklearn.ensemble import RandomForestRegressor\n",
    "from sklearn.model_selection import train_test_split\n",
    "from sklearn.metrics import mean_absolute_error \n",
    "from sklearn.preprocessing import StandardScaler\n",
    "\n",
    "# render plots in jupyter notebook\n",
    "%matplotlib inline"
   ]
  },
  {
   "cell_type": "code",
   "execution_count": 2,
   "metadata": {},
   "outputs": [
    {
     "name": "stderr",
     "output_type": "stream",
     "text": [
      "Using TensorFlow backend.\n"
     ]
    }
   ],
   "source": [
    "# Importing the dependencies\n",
    "from keras.callbacks import ModelCheckpoint\n",
    "from keras.models import Sequential\n",
    "from keras.layers import Dense, Activation, Flatten\n",
    "import warnings \n",
    "warnings.filterwarnings('ignore')\n",
    "warnings.filterwarnings('ignore', category=DeprecationWarning)"
   ]
  },
  {
   "cell_type": "code",
   "execution_count": 3,
   "metadata": {},
   "outputs": [],
   "source": [
    "# Importing the dataset\n",
    "dataset = pd.read_csv('Preprocessed_data.csv')"
   ]
  },
  {
   "cell_type": "code",
   "execution_count": 4,
   "metadata": {},
   "outputs": [],
   "source": [
    "# Modelling\n",
    "\n",
    "# X and y arrays\n",
    "X = dataset[['ProduktID']]\n",
    "y = dataset['Geld_ausgegeben']\n",
    "\n",
    "# Train Test Split\n",
    "X_train, X_test, y_train, y_test = train_test_split(X, y, test_size=0.20)\n",
    "\n",
    "sc = StandardScaler()\n",
    "X_train = sc.fit_transform(X_train)\n",
    "X_test = sc.transform(X_test)"
   ]
  },
  {
   "cell_type": "code",
   "execution_count": 5,
   "metadata": {},
   "outputs": [
    {
     "name": "stdout",
     "output_type": "stream",
     "text": [
      "Model: \"sequential_1\"\n",
      "_________________________________________________________________\n",
      "Layer (type)                 Output Shape              Param #   \n",
      "=================================================================\n",
      "dense_1 (Dense)              (None, 128)               256       \n",
      "_________________________________________________________________\n",
      "dense_2 (Dense)              (None, 256)               33024     \n",
      "_________________________________________________________________\n",
      "dense_3 (Dense)              (None, 256)               65792     \n",
      "_________________________________________________________________\n",
      "dense_4 (Dense)              (None, 256)               65792     \n",
      "_________________________________________________________________\n",
      "dense_5 (Dense)              (None, 1)                 257       \n",
      "=================================================================\n",
      "Total params: 165,121\n",
      "Trainable params: 165,121\n",
      "Non-trainable params: 0\n",
      "_________________________________________________________________\n"
     ]
    }
   ],
   "source": [
    "# Creating and Training the Model\n",
    "\n",
    "# Initialising the DNN\n",
    "NN_model = Sequential()\n",
    "\n",
    "# The Input Layer :\n",
    "NN_model.add(Dense(128, kernel_initializer='normal',input_dim = X_train.shape[1], activation='relu'))\n",
    "\n",
    "# The Hidden Layers :\n",
    "NN_model.add(Dense(256, kernel_initializer='normal',activation='relu'))\n",
    "NN_model.add(Dense(256, kernel_initializer='normal',activation='relu'))\n",
    "NN_model.add(Dense(256, kernel_initializer='normal',activation='relu'))\n",
    "\n",
    "# The Output Layer :\n",
    "NN_model.add(Dense(1, kernel_initializer='normal',activation='linear'))\n",
    "\n",
    "# Compile the network :\n",
    "NN_model.compile(loss='mean_absolute_error', optimizer='adam', metrics=['mean_absolute_error'])\n",
    "NN_model.summary()\n"
   ]
  },
  {
   "cell_type": "code",
   "execution_count": 6,
   "metadata": {},
   "outputs": [],
   "source": [
    "# Define a checkpoint callback\n",
    "checkpoint_name = 'Weights_Deep_Neural_Network_All_Features-{epoch:03d}--{val_loss:.5f}.hdf5' \n",
    "checkpoint = ModelCheckpoint(checkpoint_name, monitor='val_loss', verbose = 1, save_best_only = True, mode ='auto')\n",
    "callbacks_list = [checkpoint]"
   ]
  },
  {
   "cell_type": "code",
   "execution_count": null,
   "metadata": {},
   "outputs": [
    {
     "name": "stdout",
     "output_type": "stream",
     "text": [
      "Train on 320000 samples, validate on 80000 samples\n",
      "Epoch 1/50\n",
      "320000/320000 [==============================] - 131s 409us/step - loss: 3944.0636 - mean_absolute_error: 3944.0789 - val_loss: 3915.3508 - val_mean_absolute_error: 3915.3447\n",
      "\n",
      "Epoch 00001: val_loss improved from inf to 3915.35083, saving model to Weights_Deep_Neural_Network_All_Features-001--3915.35083.hdf5\n",
      "Epoch 2/50\n",
      "320000/320000 [==============================] - 128s 399us/step - loss: 3920.9501 - mean_absolute_error: 3920.9531 - val_loss: 3984.2038 - val_mean_absolute_error: 3984.2041\n",
      "\n",
      "Epoch 00002: val_loss did not improve from 3915.35083\n",
      "Epoch 3/50\n",
      "320000/320000 [==============================] - 129s 402us/step - loss: 3902.0275 - mean_absolute_error: 3902.0359 - val_loss: 3902.9043 - val_mean_absolute_error: 3902.9041\n",
      "\n",
      "Epoch 00003: val_loss improved from 3915.35083 to 3902.90434, saving model to Weights_Deep_Neural_Network_All_Features-003--3902.90434.hdf5\n",
      "Epoch 4/50\n",
      "320000/320000 [==============================] - 131s 410us/step - loss: 3885.1964 - mean_absolute_error: 3885.2019 - val_loss: 3882.7685 - val_mean_absolute_error: 3882.7700\n",
      "\n",
      "Epoch 00004: val_loss improved from 3902.90434 to 3882.76853, saving model to Weights_Deep_Neural_Network_All_Features-004--3882.76853.hdf5\n",
      "Epoch 5/50\n",
      "320000/320000 [==============================] - 155s 485us/step - loss: 3872.9528 - mean_absolute_error: 3872.9651 - val_loss: 3850.9766 - val_mean_absolute_error: 3850.9795\n",
      "\n",
      "Epoch 00005: val_loss improved from 3882.76853 to 3850.97656, saving model to Weights_Deep_Neural_Network_All_Features-005--3850.97656.hdf5\n",
      "Epoch 6/50\n",
      "320000/320000 [==============================] - 155s 485us/step - loss: 3871.9014 - mean_absolute_error: 3871.9153 - val_loss: 3877.2873 - val_mean_absolute_error: 3877.2915\n",
      "\n",
      "Epoch 00006: val_loss did not improve from 3850.97656\n",
      "Epoch 7/50\n",
      "320000/320000 [==============================] - 156s 487us/step - loss: 3862.3441 - mean_absolute_error: 3862.3296 - val_loss: 3862.1278 - val_mean_absolute_error: 3862.1272\n",
      "\n",
      "Epoch 00007: val_loss did not improve from 3850.97656\n",
      "Epoch 8/50\n",
      "320000/320000 [==============================] - 156s 488us/step - loss: 3851.9804 - mean_absolute_error: 3851.9993 - val_loss: 3859.0069 - val_mean_absolute_error: 3859.0039\n",
      "\n",
      "Epoch 00008: val_loss did not improve from 3850.97656\n",
      "Epoch 9/50\n",
      "320000/320000 [==============================] - 155s 485us/step - loss: 3846.3518 - mean_absolute_error: 3846.3540 - val_loss: 3880.6036 - val_mean_absolute_error: 3880.5977\n",
      "\n",
      "Epoch 00009: val_loss did not improve from 3850.97656\n",
      "Epoch 10/50\n",
      "320000/320000 [==============================] - 153s 478us/step - loss: 3843.6141 - mean_absolute_error: 3843.6101 - val_loss: 3853.0211 - val_mean_absolute_error: 3853.0151\n",
      "\n",
      "Epoch 00010: val_loss did not improve from 3850.97656\n",
      "Epoch 11/50\n",
      "320000/320000 [==============================] - 5177s 16ms/step - loss: 3841.8123 - mean_absolute_error: 3841.8196 - val_loss: 3865.8717 - val_mean_absolute_error: 3865.8728\n",
      "\n",
      "Epoch 00011: val_loss did not improve from 3850.97656\n",
      "Epoch 12/50\n",
      "320000/320000 [==============================] - 175s 546us/step - loss: 3841.0020 - mean_absolute_error: 3840.9988 - val_loss: 3868.8588 - val_mean_absolute_error: 3868.8528\n",
      "\n",
      "Epoch 00012: val_loss did not improve from 3850.97656\n",
      "Epoch 13/50\n",
      "320000/320000 [==============================] - 173s 540us/step - loss: 3839.3766 - mean_absolute_error: 3839.3860 - val_loss: 3837.1162 - val_mean_absolute_error: 3837.1152\n",
      "\n",
      "Epoch 00013: val_loss improved from 3850.97656 to 3837.11622, saving model to Weights_Deep_Neural_Network_All_Features-013--3837.11622.hdf5\n",
      "Epoch 14/50\n",
      "320000/320000 [==============================] - 170s 532us/step - loss: 3836.8247 - mean_absolute_error: 3836.8376 - val_loss: 3833.9199 - val_mean_absolute_error: 3833.9231\n",
      "\n",
      "Epoch 00014: val_loss improved from 3837.11622 to 3833.91985, saving model to Weights_Deep_Neural_Network_All_Features-014--3833.91985.hdf5\n",
      "Epoch 15/50\n",
      "320000/320000 [==============================] - 170s 530us/step - loss: 3836.9660 - mean_absolute_error: 3836.9561 - val_loss: 3837.4581 - val_mean_absolute_error: 3837.4531\n",
      "\n",
      "Epoch 00015: val_loss did not improve from 3833.91985\n",
      "Epoch 16/50\n",
      "320000/320000 [==============================] - 169s 528us/step - loss: 3835.3270 - mean_absolute_error: 3835.3423 - val_loss: 3841.6744 - val_mean_absolute_error: 3841.6941\n",
      "\n",
      "Epoch 00016: val_loss did not improve from 3833.91985\n",
      "Epoch 17/50\n",
      "320000/320000 [==============================] - 169s 528us/step - loss: 3834.6705 - mean_absolute_error: 3834.6631 - val_loss: 3848.1651 - val_mean_absolute_error: 3848.1609\n",
      "\n",
      "Epoch 00017: val_loss did not improve from 3833.91985\n",
      "Epoch 18/50\n",
      "320000/320000 [==============================] - 170s 532us/step - loss: 3834.4401 - mean_absolute_error: 3834.4368 - val_loss: 3843.0136 - val_mean_absolute_error: 3843.0117\n",
      "\n",
      "Epoch 00018: val_loss did not improve from 3833.91985\n",
      "Epoch 19/50\n",
      "320000/320000 [==============================] - 4632s 14ms/step - loss: 3832.6449 - mean_absolute_error: 3832.6460 - val_loss: 3838.0527 - val_mean_absolute_error: 3838.0513\n",
      "\n",
      "Epoch 00019: val_loss did not improve from 3833.91985\n",
      "Epoch 20/50\n",
      "131240/320000 [===========>..................] - ETA: 1:51 - loss: 3825.2331 - mean_absolute_error: 3825.2317"
     ]
    }
   ],
   "source": [
    "# Train the model\n",
    "NN_model.fit(X_train, y_train, epochs=50, batch_size=10, validation_split = 0.2, callbacks=callbacks_list)"
   ]
  },
  {
   "cell_type": "code",
   "execution_count": null,
   "metadata": {},
   "outputs": [],
   "source": [
    "# Load weights file of the best model :\n",
    "# weights_file = 'Weights_Deep_Neural_Network_All_Features-50--2083.24621.hdf5' # choose the best checkpoint \n",
    "# NN_model.load_weights(weights_file) # load it\n",
    "NN_model.compile(loss='mean_absolute_error', optimizer='adam', metrics=['mean_absolute_error'])"
   ]
  },
  {
   "cell_type": "code",
   "execution_count": null,
   "metadata": {},
   "outputs": [],
   "source": [
    "# Predictions from our Model\n",
    "predictions = NN_model.predict(X_test)\n",
    "#plt.scatter(y_test,predictions)\n",
    "plt.plot(y_test, color = 'red', label = 'Real data')\n",
    "plt.plot(predictions, color = 'blue', label = 'Predicted data')\n",
    "plt.title('Prediction')\n",
    "plt.legend()\n",
    "plt.show()"
   ]
  },
  {
   "cell_type": "code",
   "execution_count": null,
   "metadata": {},
   "outputs": [],
   "source": [
    "# sns.distplot((y_test-predictions),bins=50);"
   ]
  },
  {
   "cell_type": "code",
   "execution_count": null,
   "metadata": {},
   "outputs": [],
   "source": [
    "from sklearn import metrics\n",
    "print('MAE:', metrics.mean_absolute_error(y_test, predictions))\n",
    "print('MSE:', metrics.mean_squared_error(y_test, predictions))\n",
    "print('RMSE:', np.sqrt(metrics.mean_squared_error(y_test, predictions)))\n",
    "print('R2_Score:', metrics.r2_score(y_test, predictions))"
   ]
  },
  {
   "cell_type": "code",
   "execution_count": null,
   "metadata": {},
   "outputs": [],
   "source": []
  }
 ],
 "metadata": {
  "kernelspec": {
   "display_name": "Python 3",
   "language": "python",
   "name": "python3"
  },
  "language_info": {
   "codemirror_mode": {
    "name": "ipython",
    "version": 3
   },
   "file_extension": ".py",
   "mimetype": "text/x-python",
   "name": "python",
   "nbconvert_exporter": "python",
   "pygments_lexer": "ipython3",
   "version": "3.7.6"
  }
 },
 "nbformat": 4,
 "nbformat_minor": 4
}
