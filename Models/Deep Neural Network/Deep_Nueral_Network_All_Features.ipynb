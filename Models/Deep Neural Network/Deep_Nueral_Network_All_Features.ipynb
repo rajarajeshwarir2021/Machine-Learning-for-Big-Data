{
 "cells": [
  {
   "cell_type": "code",
   "execution_count": 1,
   "metadata": {},
   "outputs": [],
   "source": [
    "# Machine Learning Model for 'Geld ausgegeben' prediction over other parameters of Einkaufsstatistik\n",
    "\n",
    "# Importing the libraries\n",
    "\n",
    "# Load numpy\n",
    "import numpy as np\n",
    "\n",
    "# Load pandas\n",
    "import pandas as pd\n",
    "\n",
    "# Plotting library\n",
    "import seaborn as sns\n",
    "import matplotlib.pyplot as plt\n",
    "\n",
    "# sklearn library\n",
    "from sklearn.ensemble import RandomForestRegressor\n",
    "from sklearn.model_selection import train_test_split\n",
    "from sklearn.metrics import mean_absolute_error \n",
    "from sklearn.preprocessing import StandardScaler\n",
    "\n",
    "# render plots in jupyter notebook\n",
    "%matplotlib inline"
   ]
  },
  {
   "cell_type": "code",
   "execution_count": 2,
   "metadata": {},
   "outputs": [
    {
     "name": "stderr",
     "output_type": "stream",
     "text": [
      "Using TensorFlow backend.\n"
     ]
    }
   ],
   "source": [
    "# Importing the dependencies\n",
    "from keras.callbacks import ModelCheckpoint\n",
    "from keras.models import Sequential\n",
    "from keras.layers import Dense, Activation, Flatten\n",
    "import warnings \n",
    "warnings.filterwarnings('ignore')\n",
    "warnings.filterwarnings('ignore', category=DeprecationWarning)"
   ]
  },
  {
   "cell_type": "code",
   "execution_count": 3,
   "metadata": {},
   "outputs": [],
   "source": [
    "# Importing the dataset\n",
    "dataset = pd.read_csv('Preprocessed_data.csv')"
   ]
  },
  {
   "cell_type": "code",
   "execution_count": 4,
   "metadata": {},
   "outputs": [],
   "source": [
    "# Modelling\n",
    "\n",
    "# X and y arrays\n",
    "X = dataset[['KaeuferID', 'ProduktID', 'Geschlecht', 'Berufskategorie', 'Anzahl_Jahre_in_aktueller_Stadt', 'Familienstand', 'Produkt_Kategorie_1', 'Produkt_Kategorie_2', 'Produkt_Kategorie_3', '0-17', '18-25', '26-35', '36-45', '46-50', '51-55', 'A', 'B']]\n",
    "y = dataset['Geld_ausgegeben']\n",
    "\n",
    "# Train Test Split\n",
    "X_train, X_test, y_train, y_test = train_test_split(X, y, test_size=0.20)\n",
    "\n",
    "sc = StandardScaler()\n",
    "X_train = sc.fit_transform(X_train)\n",
    "X_test = sc.transform(X_test)"
   ]
  },
  {
   "cell_type": "code",
   "execution_count": 5,
   "metadata": {},
   "outputs": [
    {
     "name": "stdout",
     "output_type": "stream",
     "text": [
      "Model: \"sequential_1\"\n",
      "_________________________________________________________________\n",
      "Layer (type)                 Output Shape              Param #   \n",
      "=================================================================\n",
      "dense_1 (Dense)              (None, 128)               2304      \n",
      "_________________________________________________________________\n",
      "dense_2 (Dense)              (None, 256)               33024     \n",
      "_________________________________________________________________\n",
      "dense_3 (Dense)              (None, 256)               65792     \n",
      "_________________________________________________________________\n",
      "dense_4 (Dense)              (None, 256)               65792     \n",
      "_________________________________________________________________\n",
      "dense_5 (Dense)              (None, 1)                 257       \n",
      "=================================================================\n",
      "Total params: 167,169\n",
      "Trainable params: 167,169\n",
      "Non-trainable params: 0\n",
      "_________________________________________________________________\n"
     ]
    }
   ],
   "source": [
    "# Creating and Training the Model\n",
    "\n",
    "# Initialising the DNN\n",
    "NN_model = Sequential()\n",
    "\n",
    "# The Input Layer :\n",
    "NN_model.add(Dense(128, kernel_initializer='normal',input_dim = X_train.shape[1], activation='relu'))\n",
    "\n",
    "# The Hidden Layers :\n",
    "NN_model.add(Dense(256, kernel_initializer='normal',activation='relu'))\n",
    "NN_model.add(Dense(256, kernel_initializer='normal',activation='relu'))\n",
    "NN_model.add(Dense(256, kernel_initializer='normal',activation='relu'))\n",
    "\n",
    "# The Output Layer :\n",
    "NN_model.add(Dense(1, kernel_initializer='normal',activation='linear'))\n",
    "\n",
    "# Compile the network :\n",
    "NN_model.compile(loss='mean_absolute_error', optimizer='adam', metrics=['mean_absolute_error'])\n",
    "NN_model.summary()\n"
   ]
  },
  {
   "cell_type": "code",
   "execution_count": 6,
   "metadata": {},
   "outputs": [],
   "source": [
    "# Define a checkpoint callback\n",
    "checkpoint_name = 'Weights_Deep_Neural_Network_All_Features-{epoch:03d}--{val_loss:.5f}.hdf5' \n",
    "checkpoint = ModelCheckpoint(checkpoint_name, monitor='val_loss', verbose = 1, save_best_only = True, mode ='auto')\n",
    "callbacks_list = [checkpoint]"
   ]
  },
  {
   "cell_type": "code",
   "execution_count": 7,
   "metadata": {},
   "outputs": [
    {
     "name": "stdout",
     "output_type": "stream",
     "text": [
      "Train on 320000 samples, validate on 80000 samples\n",
      "Epoch 1/50\n",
      "320000/320000 [==============================] - 194s 608us/step - loss: 3051.3143 - mean_absolute_error: 3051.3149 - val_loss: 2751.4019 - val_mean_absolute_error: 2751.4062\n",
      "\n",
      "Epoch 00001: val_loss improved from inf to 2751.40192, saving model to Weights_Deep_Neural_Network_All_Features-001--2751.40192.hdf5\n",
      "Epoch 2/50\n",
      "320000/320000 [==============================] - 215s 672us/step - loss: 2462.3768 - mean_absolute_error: 2462.3777 - val_loss: 2334.1913 - val_mean_absolute_error: 2334.1909\n",
      "\n",
      "Epoch 00002: val_loss improved from 2751.40192 to 2334.19130, saving model to Weights_Deep_Neural_Network_All_Features-002--2334.19130.hdf5\n",
      "Epoch 3/50\n",
      "320000/320000 [==============================] - 213s 666us/step - loss: 2300.6819 - mean_absolute_error: 2300.6809 - val_loss: 2256.0768 - val_mean_absolute_error: 2256.0835\n",
      "\n",
      "Epoch 00003: val_loss improved from 2334.19130 to 2256.07676, saving model to Weights_Deep_Neural_Network_All_Features-003--2256.07676.hdf5\n",
      "Epoch 4/50\n",
      "320000/320000 [==============================] - 201s 630us/step - loss: 2250.4227 - mean_absolute_error: 2250.4209 - val_loss: 2229.5757 - val_mean_absolute_error: 2229.5742\n",
      "\n",
      "Epoch 00004: val_loss improved from 2256.07676 to 2229.57573, saving model to Weights_Deep_Neural_Network_All_Features-004--2229.57573.hdf5\n",
      "Epoch 5/50\n",
      "320000/320000 [==============================] - 195s 608us/step - loss: 2229.8808 - mean_absolute_error: 2229.8684 - val_loss: 2188.9803 - val_mean_absolute_error: 2188.9802\n",
      "\n",
      "Epoch 00005: val_loss improved from 2229.57573 to 2188.98029, saving model to Weights_Deep_Neural_Network_All_Features-005--2188.98029.hdf5\n",
      "Epoch 6/50\n",
      "320000/320000 [==============================] - 198s 620us/step - loss: 2211.1195 - mean_absolute_error: 2211.1169 - val_loss: 2184.4891 - val_mean_absolute_error: 2184.4905\n",
      "\n",
      "Epoch 00006: val_loss improved from 2188.98029 to 2184.48908, saving model to Weights_Deep_Neural_Network_All_Features-006--2184.48908.hdf5\n",
      "Epoch 7/50\n",
      "320000/320000 [==============================] - 193s 604us/step - loss: 2197.7854 - mean_absolute_error: 2197.7820 - val_loss: 2172.9469 - val_mean_absolute_error: 2172.9524\n",
      "\n",
      "Epoch 00007: val_loss improved from 2184.48908 to 2172.94690, saving model to Weights_Deep_Neural_Network_All_Features-007--2172.94690.hdf5\n",
      "Epoch 8/50\n",
      "320000/320000 [==============================] - 197s 615us/step - loss: 2189.9895 - mean_absolute_error: 2189.9895 - val_loss: 2185.2009 - val_mean_absolute_error: 2185.2024\n",
      "\n",
      "Epoch 00008: val_loss did not improve from 2172.94690\n",
      "Epoch 9/50\n",
      "320000/320000 [==============================] - 177s 553us/step - loss: 2182.1973 - mean_absolute_error: 2182.2031 - val_loss: 2178.7314 - val_mean_absolute_error: 2178.7273\n",
      "\n",
      "Epoch 00009: val_loss did not improve from 2172.94690\n",
      "Epoch 10/50\n",
      "320000/320000 [==============================] - 176s 549us/step - loss: 2177.5373 - mean_absolute_error: 2177.5415 - val_loss: 2169.6907 - val_mean_absolute_error: 2169.6887\n",
      "\n",
      "Epoch 00010: val_loss improved from 2172.94690 to 2169.69072, saving model to Weights_Deep_Neural_Network_All_Features-010--2169.69072.hdf5\n",
      "Epoch 11/50\n",
      "320000/320000 [==============================] - 188s 586us/step - loss: 2172.2518 - mean_absolute_error: 2172.2539 - val_loss: 2181.5911 - val_mean_absolute_error: 2181.5940\n",
      "\n",
      "Epoch 00011: val_loss did not improve from 2169.69072\n",
      "Epoch 12/50\n",
      "320000/320000 [==============================] - 187s 584us/step - loss: 2167.0586 - mean_absolute_error: 2167.0674 - val_loss: 2168.1279 - val_mean_absolute_error: 2168.1274\n",
      "\n",
      "Epoch 00012: val_loss improved from 2169.69072 to 2168.12787, saving model to Weights_Deep_Neural_Network_All_Features-012--2168.12787.hdf5\n",
      "Epoch 13/50\n",
      "320000/320000 [==============================] - 176s 550us/step - loss: 2162.5554 - mean_absolute_error: 2162.5520 - val_loss: 2156.5433 - val_mean_absolute_error: 2156.5403\n",
      "\n",
      "Epoch 00013: val_loss improved from 2168.12787 to 2156.54329, saving model to Weights_Deep_Neural_Network_All_Features-013--2156.54329.hdf5\n",
      "Epoch 14/50\n",
      "320000/320000 [==============================] - 169s 529us/step - loss: 2157.5948 - mean_absolute_error: 2157.5891 - val_loss: 2147.3755 - val_mean_absolute_error: 2147.3789\n",
      "\n",
      "Epoch 00014: val_loss improved from 2156.54329 to 2147.37555, saving model to Weights_Deep_Neural_Network_All_Features-014--2147.37555.hdf5\n",
      "Epoch 15/50\n",
      "320000/320000 [==============================] - 165s 516us/step - loss: 2154.0827 - mean_absolute_error: 2154.0957 - val_loss: 2164.4810 - val_mean_absolute_error: 2164.4817\n",
      "\n",
      "Epoch 00015: val_loss did not improve from 2147.37555\n",
      "Epoch 16/50\n",
      "320000/320000 [==============================] - 161s 502us/step - loss: 2151.5170 - mean_absolute_error: 2151.5168 - val_loss: 2153.9759 - val_mean_absolute_error: 2153.9773\n",
      "\n",
      "Epoch 00016: val_loss did not improve from 2147.37555\n",
      "Epoch 17/50\n",
      "320000/320000 [==============================] - 157s 489us/step - loss: 2148.9557 - mean_absolute_error: 2148.9551 - val_loss: 2152.1229 - val_mean_absolute_error: 2152.1174\n",
      "\n",
      "Epoch 00017: val_loss did not improve from 2147.37555\n",
      "Epoch 18/50\n",
      "320000/320000 [==============================] - 157s 489us/step - loss: 2144.8133 - mean_absolute_error: 2144.8154 - val_loss: 2147.2137 - val_mean_absolute_error: 2147.2148\n",
      "\n",
      "Epoch 00018: val_loss improved from 2147.37555 to 2147.21369, saving model to Weights_Deep_Neural_Network_All_Features-018--2147.21369.hdf5\n",
      "Epoch 19/50\n",
      "320000/320000 [==============================] - 156s 489us/step - loss: 2142.1792 - mean_absolute_error: 2142.1775 - val_loss: 2130.5698 - val_mean_absolute_error: 2130.5710\n",
      "\n",
      "Epoch 00019: val_loss improved from 2147.21369 to 2130.56976, saving model to Weights_Deep_Neural_Network_All_Features-019--2130.56976.hdf5\n",
      "Epoch 20/50\n",
      "320000/320000 [==============================] - 156s 487us/step - loss: 2139.7996 - mean_absolute_error: 2139.8003 - val_loss: 2176.4065 - val_mean_absolute_error: 2176.4089\n",
      "\n",
      "Epoch 00020: val_loss did not improve from 2130.56976\n",
      "Epoch 21/50\n",
      "320000/320000 [==============================] - 155s 483us/step - loss: 2136.3751 - mean_absolute_error: 2136.3665 - val_loss: 2140.2888 - val_mean_absolute_error: 2140.2886\n",
      "\n",
      "Epoch 00021: val_loss did not improve from 2130.56976\n",
      "Epoch 22/50\n",
      "320000/320000 [==============================] - 152s 475us/step - loss: 2126.5803 - mean_absolute_error: 2126.5784 - val_loss: 2124.2194 - val_mean_absolute_error: 2124.2241\n",
      "\n",
      "Epoch 00024: val_loss improved from 2125.93820 to 2124.21940, saving model to Weights_Deep_Neural_Network_All_Features-024--2124.21940.hdf5\n",
      "Epoch 25/50\n",
      "320000/320000 [==============================] - 153s 478us/step - loss: 2124.3750 - mean_absolute_error: 2124.3721 - val_loss: 2144.9475 - val_mean_absolute_error: 2144.9478\n",
      "\n",
      "Epoch 00025: val_loss did not improve from 2124.21940\n",
      "Epoch 26/50\n",
      "320000/320000 [==============================] - 153s 478us/step - loss: 2122.7191 - mean_absolute_error: 2122.7205 - val_loss: 2125.4657 - val_mean_absolute_error: 2125.4683\n",
      "\n",
      "Epoch 00026: val_loss did not improve from 2124.21940\n",
      "Epoch 27/50\n",
      "320000/320000 [==============================] - 154s 481us/step - loss: 2117.9071 - mean_absolute_error: 2117.8970 - val_loss: 2133.0373 - val_mean_absolute_error: 2133.0425\n",
      "\n",
      "Epoch 00027: val_loss did not improve from 2124.21940\n",
      "Epoch 28/50\n",
      "320000/320000 [==============================] - 153s 478us/step - loss: 2115.6157 - mean_absolute_error: 2115.6179 - val_loss: 2113.4211 - val_mean_absolute_error: 2113.4175\n",
      "\n",
      "Epoch 00028: val_loss improved from 2124.21940 to 2113.42113, saving model to Weights_Deep_Neural_Network_All_Features-028--2113.42113.hdf5\n",
      "Epoch 29/50\n",
      "320000/320000 [==============================] - 152s 476us/step - loss: 2113.2391 - mean_absolute_error: 2113.2339 - val_loss: 2111.7280 - val_mean_absolute_error: 2111.7317\n",
      "\n",
      "Epoch 00029: val_loss improved from 2113.42113 to 2111.72798, saving model to Weights_Deep_Neural_Network_All_Features-029--2111.72798.hdf5\n",
      "Epoch 30/50\n",
      "320000/320000 [==============================] - 153s 479us/step - loss: 2110.8270 - mean_absolute_error: 2110.8308 - val_loss: 2118.8758 - val_mean_absolute_error: 2118.8794\n",
      "\n",
      "Epoch 00030: val_loss did not improve from 2111.72798\n",
      "Epoch 31/50\n"
     ]
    },
    {
     "name": "stdout",
     "output_type": "stream",
     "text": [
      "320000/320000 [==============================] - 153s 480us/step - loss: 2109.4968 - mean_absolute_error: 2109.4958 - val_loss: 2125.5705 - val_mean_absolute_error: 2125.5684\n",
      "\n",
      "Epoch 00031: val_loss did not improve from 2111.72798\n",
      "Epoch 32/50\n",
      "320000/320000 [==============================] - 152s 474us/step - loss: 2104.3253 - mean_absolute_error: 2104.3320 - val_loss: 2121.2429 - val_mean_absolute_error: 2121.2424\n",
      "\n",
      "Epoch 00033: val_loss did not improve from 2109.81245\n",
      "Epoch 34/50\n",
      "320000/320000 [==============================] - 150s 468us/step - loss: 2094.8896 - mean_absolute_error: 2094.8931 - val_loss: 2095.7496 - val_mean_absolute_error: 2095.7446\n",
      "\n",
      "Epoch 00037: val_loss improved from 2109.81245 to 2095.74962, saving model to Weights_Deep_Neural_Network_All_Features-037--2095.74962.hdf5\n",
      "Epoch 38/50\n",
      "320000/320000 [==============================] - 152s 475us/step - loss: 2093.5375 - mean_absolute_error: 2093.5422 - val_loss: 2111.5648 - val_mean_absolute_error: 2111.5635\n",
      "\n",
      "Epoch 00038: val_loss did not improve from 2095.74962\n",
      "Epoch 39/50\n",
      "320000/320000 [==============================] - 152s 475us/step - loss: 2091.1339 - mean_absolute_error: 2091.1323 - val_loss: 2113.5670 - val_mean_absolute_error: 2113.5659\n",
      "\n",
      "Epoch 00039: val_loss did not improve from 2095.74962\n",
      "Epoch 40/50\n",
      "320000/320000 [==============================] - 152s 476us/step - loss: 2087.1195 - mean_absolute_error: 2087.1233 - val_loss: 2093.8870 - val_mean_absolute_error: 2093.8877\n",
      "\n",
      "Epoch 00041: val_loss improved from 2095.74962 to 2093.88697, saving model to Weights_Deep_Neural_Network_All_Features-041--2093.88697.hdf5\n",
      "Epoch 42/50\n",
      "320000/320000 [==============================] - 152s 475us/step - loss: 2083.1838 - mean_absolute_error: 2083.1892 - val_loss: 2099.8115 - val_mean_absolute_error: 2099.8110\n",
      "\n",
      "Epoch 00043: val_loss did not improve from 2093.88697\n",
      "Epoch 44/50\n",
      "320000/320000 [==============================] - 153s 478us/step - loss: 2080.5184 - mean_absolute_error: 2080.5120 - val_loss: 2089.8238 - val_mean_absolute_error: 2089.8220\n",
      "\n",
      "Epoch 00044: val_loss improved from 2093.88697 to 2089.82378, saving model to Weights_Deep_Neural_Network_All_Features-044--2089.82378.hdf5\n",
      "Epoch 45/50\n",
      "320000/320000 [==============================] - 152s 476us/step - loss: 2079.2851 - mean_absolute_error: 2079.2852 - val_loss: 2085.6200 - val_mean_absolute_error: 2085.6230\n",
      "\n",
      "Epoch 00045: val_loss improved from 2089.82378 to 2085.62000, saving model to Weights_Deep_Neural_Network_All_Features-045--2085.62000.hdf5\n",
      "Epoch 46/50\n",
      "320000/320000 [==============================] - 154s 481us/step - loss: 2072.9216 - mean_absolute_error: 2072.9287 - val_loss: 2115.5966 - val_mean_absolute_error: 2115.5979\n",
      "\n",
      "Epoch 00048: val_loss did not improve from 2085.62000\n",
      "Epoch 49/50\n",
      "320000/320000 [==============================] - 153s 478us/step - loss: 2072.2060 - mean_absolute_error: 2072.2156 - val_loss: 2087.8323 - val_mean_absolute_error: 2087.8267\n",
      "\n",
      "Epoch 00049: val_loss did not improve from 2085.62000\n",
      "Epoch 50/50\n",
      "320000/320000 [==============================] - 148s 462us/step - loss: 2069.5618 - mean_absolute_error: 2069.5569 - val_loss: 2083.2462 - val_mean_absolute_error: 2083.2524\n",
      "\n",
      "Epoch 00050: val_loss improved from 2085.62000 to 2083.24621, saving model to Weights_Deep_Neural_Network_All_Features-050--2083.24621.hdf5\n"
     ]
    },
    {
     "data": {
      "text/plain": [
       "<keras.callbacks.callbacks.History at 0x184235e18c8>"
      ]
     },
     "execution_count": 7,
     "metadata": {},
     "output_type": "execute_result"
    }
   ],
   "source": [
    "# Train the model\n",
    "NN_model.fit(X_train, y_train, epochs=50, batch_size=10, validation_split = 0.2, callbacks=callbacks_list)"
   ]
  },
  {
   "cell_type": "code",
   "execution_count": 11,
   "metadata": {},
   "outputs": [],
   "source": [
    "# Load weights file of the best model :\n",
    "# weights_file = 'Weights_Deep_Neural_Network_All_Features-50--2083.24621.hdf5' # choose the best checkpoint \n",
    "# NN_model.load_weights(weights_file) # load it\n",
    "NN_model.compile(loss='mean_absolute_error', optimizer='adam', metrics=['mean_absolute_error'])"
   ]
  },
  {
   "cell_type": "code",
   "execution_count": 12,
   "metadata": {},
   "outputs": [
    {
     "data": {
      "image/png": "[encoded data removed]",
      "text/plain": [
       "<Figure size 432x288 with 1 Axes>"
      ]
     },
     "metadata": {
      "needs_background": "light"
     },
     "output_type": "display_data"
    }
   ],
   "source": [
    "# Predictions from our Model\n",
    "predictions = NN_model.predict(X_test)\n",
    "#plt.scatter(y_test,predictions)\n",
    "plt.plot(y_test, color = 'red', label = 'Real data')\n",
    "plt.plot(predictions, color = 'blue', label = 'Predicted data')\n",
    "plt.title('Prediction')\n",
    "plt.legend()\n",
    "plt.show()"
   ]
  },
  {
   "cell_type": "code",
   "execution_count": 15,
   "metadata": {},
   "outputs": [],
   "source": [
    "# sns.distplot((y_test-predictions),bins=50);"
   ]
  },
  {
   "cell_type": "code",
   "execution_count": 16,
   "metadata": {},
   "outputs": [
    {
     "name": "stdout",
     "output_type": "stream",
     "text": [
      "MAE: 2092.3425488851212\n",
      "MSE: 8403692.209409634\n",
      "RMSE: 2898.9122458966626\n",
      "R2_Score: 0.6685367511442174\n"
     ]
    }
   ],
   "source": [
    "from sklearn import metrics\n",
    "print('MAE:', metrics.mean_absolute_error(y_test, predictions))\n",
    "print('MSE:', metrics.mean_squared_error(y_test, predictions))\n",
    "print('RMSE:', np.sqrt(metrics.mean_squared_error(y_test, predictions)))\n",
    "print('R2_Score:', metrics.r2_score(y_test, predictions))"
   ]
  },
  {
   "cell_type": "code",
   "execution_count": null,
   "metadata": {},
   "outputs": [],
   "source": []
  }
 ],
 "metadata": {
  "kernelspec": {
   "display_name": "Python 3",
   "language": "python",
   "name": "python3"
  },
  "language_info": {
   "codemirror_mode": {
    "name": "ipython",
    "version": 3
   },
   "file_extension": ".py",
   "mimetype": "text/x-python",
   "name": "python",
   "nbconvert_exporter": "python",
   "pygments_lexer": "ipython3",
   "version": "3.7.6"
  }
 },
 "nbformat": 4,
 "nbformat_minor": 4
}
