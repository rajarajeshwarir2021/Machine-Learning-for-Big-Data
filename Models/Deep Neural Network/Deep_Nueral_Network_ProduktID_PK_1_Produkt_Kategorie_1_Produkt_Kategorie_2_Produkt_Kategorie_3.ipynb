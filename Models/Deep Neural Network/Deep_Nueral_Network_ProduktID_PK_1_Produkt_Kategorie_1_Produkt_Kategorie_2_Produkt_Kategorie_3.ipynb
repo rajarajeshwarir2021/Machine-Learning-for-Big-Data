{
 "cells": [
  {
   "cell_type": "code",
   "execution_count": 1,
   "metadata": {},
   "outputs": [],
   "source": [
    "# Machine Learning Model for 'Geld ausgegeben' prediction over other parameters of Einkaufsstatistik\n",
    "\n",
    "# Importing the libraries\n",
    "\n",
    "# Load numpy\n",
    "import numpy as np\n",
    "\n",
    "# Load pandas\n",
    "import pandas as pd\n",
    "\n",
    "# Plotting library\n",
    "import seaborn as sns\n",
    "import matplotlib.pyplot as plt\n",
    "\n",
    "# sklearn library\n",
    "from sklearn.ensemble import RandomForestRegressor\n",
    "from sklearn.model_selection import train_test_split\n",
    "from sklearn.metrics import mean_absolute_error \n",
    "from sklearn.preprocessing import StandardScaler\n",
    "\n",
    "# render plots in jupyter notebook\n",
    "%matplotlib inline"
   ]
  },
  {
   "cell_type": "code",
   "execution_count": 2,
   "metadata": {},
   "outputs": [
    {
     "name": "stderr",
     "output_type": "stream",
     "text": [
      "Using TensorFlow backend.\n"
     ]
    }
   ],
   "source": [
    "# Importing the dependencies\n",
    "from keras.callbacks import ModelCheckpoint\n",
    "from keras.models import Sequential\n",
    "from keras.layers import Dense, Activation, Flatten\n",
    "import warnings \n",
    "warnings.filterwarnings('ignore')\n",
    "warnings.filterwarnings('ignore', category=DeprecationWarning)"
   ]
  },
  {
   "cell_type": "code",
   "execution_count": 3,
   "metadata": {},
   "outputs": [],
   "source": [
    "# Importing the dataset\n",
    "dataset = pd.read_csv('Preprocessed_data.csv')"
   ]
  },
  {
   "cell_type": "code",
   "execution_count": 4,
   "metadata": {},
   "outputs": [],
   "source": [
    "# Modelling\n",
    "\n",
    "# X and y arrays\n",
    "X = dataset[['ProduktID', 'Produkt_Kategorie_1', 'Produkt_Kategorie_2', 'Produkt_Kategorie_3']]\n",
    "y = dataset['Geld_ausgegeben']\n",
    "\n",
    "# Train Test Split\n",
    "X_train, X_test, y_train, y_test = train_test_split(X, y, test_size=0.20)\n",
    "\n",
    "sc = StandardScaler()\n",
    "X_train = sc.fit_transform(X_train)\n",
    "X_test = sc.transform(X_test)"
   ]
  },
  {
   "cell_type": "code",
   "execution_count": 5,
   "metadata": {},
   "outputs": [
    {
     "name": "stdout",
     "output_type": "stream",
     "text": [
      "Model: \"sequential_1\"\n",
      "_________________________________________________________________\n",
      "Layer (type)                 Output Shape              Param #   \n",
      "=================================================================\n",
      "dense_1 (Dense)              (None, 128)               640       \n",
      "_________________________________________________________________\n",
      "dense_2 (Dense)              (None, 256)               33024     \n",
      "_________________________________________________________________\n",
      "dense_3 (Dense)              (None, 256)               65792     \n",
      "_________________________________________________________________\n",
      "dense_4 (Dense)              (None, 256)               65792     \n",
      "_________________________________________________________________\n",
      "dense_5 (Dense)              (None, 1)                 257       \n",
      "=================================================================\n",
      "Total params: 165,505\n",
      "Trainable params: 165,505\n",
      "Non-trainable params: 0\n",
      "_________________________________________________________________\n"
     ]
    }
   ],
   "source": [
    "# Creating and Training the Model\n",
    "\n",
    "# Initialising the DNN\n",
    "NN_model = Sequential()\n",
    "\n",
    "# The Input Layer :\n",
    "NN_model.add(Dense(128, kernel_initializer='normal',input_dim = X_train.shape[1], activation='relu'))\n",
    "\n",
    "# The Hidden Layers :\n",
    "NN_model.add(Dense(256, kernel_initializer='normal',activation='relu'))\n",
    "NN_model.add(Dense(256, kernel_initializer='normal',activation='relu'))\n",
    "NN_model.add(Dense(256, kernel_initializer='normal',activation='relu'))\n",
    "\n",
    "# The Output Layer :\n",
    "NN_model.add(Dense(1, kernel_initializer='normal',activation='linear'))\n",
    "\n",
    "# Compile the network :\n",
    "NN_model.compile(loss='mean_absolute_error', optimizer='adam', metrics=['mean_absolute_error'])\n",
    "NN_model.summary()\n"
   ]
  },
  {
   "cell_type": "code",
   "execution_count": 6,
   "metadata": {},
   "outputs": [],
   "source": [
    "# Define a checkpoint callback\n",
    "checkpoint_name = 'Weights_Deep_Neural_Network_All_Features-{epoch:03d}--{val_loss:.5f}.hdf5' \n",
    "checkpoint = ModelCheckpoint(checkpoint_name, monitor='val_loss', verbose = 1, save_best_only = True, mode ='auto')\n",
    "callbacks_list = [checkpoint]"
   ]
  },
  {
   "cell_type": "code",
   "execution_count": null,
   "metadata": {},
   "outputs": [
    {
     "name": "stdout",
     "output_type": "stream",
     "text": [
      "Train on 320000 samples, validate on 80000 samples\n",
      "Epoch 1/50\n",
      "320000/320000 [==============================] - 129s 403us/step - loss: 2889.3514 - mean_absolute_error: 2889.3679 - val_loss: 2496.5806 - val_mean_absolute_error: 2496.5857\n",
      "\n",
      "Epoch 00001: val_loss improved from inf to 2496.58057, saving model to Weights_Deep_Neural_Network_All_Features-001--2496.58057.hdf5\n",
      "Epoch 2/50\n",
      "320000/320000 [==============================] - 128s 400us/step - loss: 2400.7134 - mean_absolute_error: 2400.7129 - val_loss: 2282.2964 - val_mean_absolute_error: 2282.2949\n",
      "\n",
      "Epoch 00002: val_loss improved from 2496.58057 to 2282.29645, saving model to Weights_Deep_Neural_Network_All_Features-002--2282.29645.hdf5\n",
      "Epoch 3/50\n",
      "320000/320000 [==============================] - 129s 404us/step - loss: 2275.4890 - mean_absolute_error: 2275.4910 - val_loss: 2250.0827 - val_mean_absolute_error: 2250.0859\n",
      "\n",
      "Epoch 00003: val_loss improved from 2282.29645 to 2250.08273, saving model to Weights_Deep_Neural_Network_All_Features-003--2250.08273.hdf5\n",
      "Epoch 4/50\n",
      "320000/320000 [==============================] - 150s 470us/step - loss: 2241.7337 - mean_absolute_error: 2241.7227 - val_loss: 2218.2333 - val_mean_absolute_error: 2218.2310\n",
      "\n",
      "Epoch 00004: val_loss improved from 2250.08273 to 2218.23330, saving model to Weights_Deep_Neural_Network_All_Features-004--2218.23330.hdf5\n",
      "Epoch 5/50\n",
      "320000/320000 [==============================] - 154s 482us/step - loss: 2224.6891 - mean_absolute_error: 2224.6924 - val_loss: 2272.5390 - val_mean_absolute_error: 2272.5398\n",
      "\n",
      "Epoch 00005: val_loss did not improve from 2218.23330\n",
      "Epoch 6/50\n",
      "320000/320000 [==============================] - 155s 483us/step - loss: 2210.4725 - mean_absolute_error: 2210.4695 - val_loss: 2191.9222 - val_mean_absolute_error: 2191.9270\n",
      "\n",
      "Epoch 00006: val_loss improved from 2218.23330 to 2191.92216, saving model to Weights_Deep_Neural_Network_All_Features-006--2191.92216.hdf5\n",
      "Epoch 7/50\n",
      "320000/320000 [==============================] - 154s 482us/step - loss: 2199.0767 - mean_absolute_error: 2199.0723 - val_loss: 2213.8605 - val_mean_absolute_error: 2213.8601\n",
      "\n",
      "Epoch 00007: val_loss did not improve from 2191.92216\n",
      "Epoch 8/50\n",
      "320000/320000 [==============================] - 153s 478us/step - loss: 2192.1761 - mean_absolute_error: 2192.1709 - val_loss: 2196.9110 - val_mean_absolute_error: 2196.9106\n",
      "\n",
      "Epoch 00008: val_loss did not improve from 2191.92216\n",
      "Epoch 9/50\n",
      "320000/320000 [==============================] - 153s 479us/step - loss: 2183.6215 - mean_absolute_error: 2183.6167 - val_loss: 2175.1148 - val_mean_absolute_error: 2175.1147\n",
      "\n",
      "Epoch 00009: val_loss improved from 2191.92216 to 2175.11482, saving model to Weights_Deep_Neural_Network_All_Features-009--2175.11482.hdf5\n",
      "Epoch 10/50\n",
      "320000/320000 [==============================] - 5170s 16ms/step - loss: 2178.2492 - mean_absolute_error: 2178.2402 - val_loss: 2223.4012 - val_mean_absolute_error: 2223.4050\n",
      "\n",
      "Epoch 00010: val_loss did not improve from 2175.11482\n",
      "Epoch 11/50\n",
      "320000/320000 [==============================] - 171s 536us/step - loss: 2172.4387 - mean_absolute_error: 2172.4363 - val_loss: 2165.1470 - val_mean_absolute_error: 2165.1455\n",
      "\n",
      "Epoch 00011: val_loss improved from 2175.11482 to 2165.14699, saving model to Weights_Deep_Neural_Network_All_Features-011--2165.14699.hdf5\n",
      "Epoch 12/50\n",
      "320000/320000 [==============================] - 172s 536us/step - loss: 2168.4050 - mean_absolute_error: 2168.4043 - val_loss: 2151.2441 - val_mean_absolute_error: 2151.2432\n",
      "\n",
      "Epoch 00012: val_loss improved from 2165.14699 to 2151.24409, saving model to Weights_Deep_Neural_Network_All_Features-012--2151.24409.hdf5\n",
      "Epoch 13/50\n",
      "320000/320000 [==============================] - 168s 526us/step - loss: 2163.6087 - mean_absolute_error: 2163.6055 - val_loss: 2184.2973 - val_mean_absolute_error: 2184.2939\n",
      "\n",
      "Epoch 00013: val_loss did not improve from 2151.24409\n",
      "Epoch 14/50\n",
      "320000/320000 [==============================] - 168s 524us/step - loss: 2159.2975 - mean_absolute_error: 2159.3027 - val_loss: 2162.7216 - val_mean_absolute_error: 2162.7266\n",
      "\n",
      "Epoch 00014: val_loss did not improve from 2151.24409\n",
      "Epoch 15/50\n",
      "320000/320000 [==============================] - 167s 522us/step - loss: 2154.0863 - mean_absolute_error: 2154.0940 - val_loss: 2163.3788 - val_mean_absolute_error: 2163.3804\n",
      "\n",
      "Epoch 00015: val_loss did not improve from 2151.24409\n",
      "Epoch 16/50\n",
      "320000/320000 [==============================] - 167s 521us/step - loss: 2149.9593 - mean_absolute_error: 2149.9626 - val_loss: 2142.9632 - val_mean_absolute_error: 2142.9600\n",
      "\n",
      "Epoch 00016: val_loss improved from 2151.24409 to 2142.96323, saving model to Weights_Deep_Neural_Network_All_Features-016--2142.96323.hdf5\n",
      "Epoch 17/50\n",
      "320000/320000 [==============================] - 169s 527us/step - loss: 2146.0357 - mean_absolute_error: 2146.0300 - val_loss: 2160.0579 - val_mean_absolute_error: 2160.0613\n",
      "\n",
      "Epoch 00017: val_loss did not improve from 2142.96323\n",
      "Epoch 18/50\n",
      "320000/320000 [==============================] - 4629s 14ms/step - loss: 2141.5530 - mean_absolute_error: 2141.5471 - val_loss: 2151.7986 - val_mean_absolute_error: 2151.7986\n",
      "\n",
      "Epoch 00018: val_loss did not improve from 2142.96323\n",
      "Epoch 19/50\n",
      "242110/320000 [=====================>........] - ETA: 40s - loss: 2137.2613 - mean_absolute_error: 2137.2649"
     ]
    }
   ],
   "source": [
    "# Train the model\n",
    "NN_model.fit(X_train, y_train, epochs=50, batch_size=10, validation_split = 0.2, callbacks=callbacks_list)"
   ]
  },
  {
   "cell_type": "code",
   "execution_count": null,
   "metadata": {},
   "outputs": [],
   "source": [
    "# Load weights file of the best model :\n",
    "# weights_file = 'Weights_Deep_Neural_Network_All_Features-50--2083.24621.hdf5' # choose the best checkpoint \n",
    "# NN_model.load_weights(weights_file) # load it\n",
    "NN_model.compile(loss='mean_absolute_error', optimizer='adam', metrics=['mean_absolute_error'])"
   ]
  },
  {
   "cell_type": "code",
   "execution_count": null,
   "metadata": {},
   "outputs": [],
   "source": [
    "# Predictions from our Model\n",
    "predictions = NN_model.predict(X_test)\n",
    "#plt.scatter(y_test,predictions)\n",
    "plt.plot(y_test, color = 'red', label = 'Real data')\n",
    "plt.plot(predictions, color = 'blue', label = 'Predicted data')\n",
    "plt.title('Prediction')\n",
    "plt.legend()\n",
    "plt.show()"
   ]
  },
  {
   "cell_type": "code",
   "execution_count": null,
   "metadata": {},
   "outputs": [],
   "source": [
    "# sns.distplot((y_test-predictions),bins=50);"
   ]
  },
  {
   "cell_type": "code",
   "execution_count": null,
   "metadata": {},
   "outputs": [],
   "source": [
    "from sklearn import metrics\n",
    "print('MAE:', metrics.mean_absolute_error(y_test, predictions))\n",
    "print('MSE:', metrics.mean_squared_error(y_test, predictions))\n",
    "print('RMSE:', np.sqrt(metrics.mean_squared_error(y_test, predictions)))\n",
    "print('R2_Score:', metrics.r2_score(y_test, predictions))"
   ]
  },
  {
   "cell_type": "code",
   "execution_count": null,
   "metadata": {},
   "outputs": [],
   "source": []
  }
 ],
 "metadata": {
  "kernelspec": {
   "display_name": "Python 3",
   "language": "python",
   "name": "python3"
  },
  "language_info": {
   "codemirror_mode": {
    "name": "ipython",
    "version": 3
   },
   "file_extension": ".py",
   "mimetype": "text/x-python",
   "name": "python",
   "nbconvert_exporter": "python",
   "pygments_lexer": "ipython3",
   "version": "3.7.6"
  }
 },
 "nbformat": 4,
 "nbformat_minor": 4
}
