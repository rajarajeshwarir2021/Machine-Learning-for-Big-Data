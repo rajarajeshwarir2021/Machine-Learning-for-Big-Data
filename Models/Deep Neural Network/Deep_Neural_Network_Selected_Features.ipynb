{
 "cells": [
  {
   "cell_type": "code",
   "execution_count": 1,
   "metadata": {},
   "outputs": [],
   "source": [
    "# Machine Learning Model for 'Geld ausgegeben' prediction over other parameters of Einkaufsstatistik\n",
    "\n",
    "# Importing the libraries\n",
    "\n",
    "# Load numpy\n",
    "import numpy as np\n",
    "\n",
    "# Load pandas\n",
    "import pandas as pd\n",
    "\n",
    "# Plotting library\n",
    "import seaborn as sns\n",
    "import matplotlib.pyplot as plt\n",
    "\n",
    "# sklearn library\n",
    "from sklearn.ensemble import RandomForestRegressor\n",
    "from sklearn.model_selection import train_test_split\n",
    "from sklearn.metrics import mean_absolute_error \n",
    "from sklearn.preprocessing import StandardScaler\n",
    "\n",
    "# render plots in jupyter notebook\n",
    "%matplotlib inline"
   ]
  },
  {
   "cell_type": "code",
   "execution_count": 2,
   "metadata": {},
   "outputs": [
    {
     "name": "stderr",
     "output_type": "stream",
     "text": [
      "Using TensorFlow backend.\n"
     ]
    }
   ],
   "source": [
    "# Importing the dependencies\n",
    "from keras.callbacks import ModelCheckpoint\n",
    "from keras.models import Sequential\n",
    "from keras.layers import Dense, Activation, Flatten\n",
    "import warnings \n",
    "warnings.filterwarnings('ignore')\n",
    "warnings.filterwarnings('ignore', category=DeprecationWarning)"
   ]
  },
  {
   "cell_type": "code",
   "execution_count": 3,
   "metadata": {},
   "outputs": [],
   "source": [
    "# Importing the dataset\n",
    "dataset = pd.read_csv('Preprocessed_data.csv')"
   ]
  },
  {
   "cell_type": "code",
   "execution_count": 4,
   "metadata": {},
   "outputs": [],
   "source": [
    "# Modelling\n",
    "\n",
    "# X and y arrays\n",
    "X = dataset[['Geschlecht', 'Berufskategorie', 'Produkt_Kategorie_1', 'Produkt_Kategorie_2', 'Produkt_Kategorie_3', '0-17', '51-55', 'A', 'B']]\n",
    "y = dataset['Geld_ausgegeben']\n",
    "\n",
    "# Train Test Split\n",
    "X_train, X_test, y_train, y_test = train_test_split(X, y, test_size=0.20)\n",
    "\n",
    "sc = StandardScaler()\n",
    "X_train = sc.fit_transform(X_train)\n",
    "X_test = sc.transform(X_test)"
   ]
  },
  {
   "cell_type": "code",
   "execution_count": 5,
   "metadata": {},
   "outputs": [
    {
     "name": "stdout",
     "output_type": "stream",
     "text": [
      "Model: \"sequential_1\"\n",
      "_________________________________________________________________\n",
      "Layer (type)                 Output Shape              Param #   \n",
      "=================================================================\n",
      "dense_1 (Dense)              (None, 128)               1280      \n",
      "_________________________________________________________________\n",
      "dense_2 (Dense)              (None, 256)               33024     \n",
      "_________________________________________________________________\n",
      "dense_3 (Dense)              (None, 256)               65792     \n",
      "_________________________________________________________________\n",
      "dense_4 (Dense)              (None, 256)               65792     \n",
      "_________________________________________________________________\n",
      "dense_5 (Dense)              (None, 1)                 257       \n",
      "=================================================================\n",
      "Total params: 166,145\n",
      "Trainable params: 166,145\n",
      "Non-trainable params: 0\n",
      "_________________________________________________________________\n"
     ]
    }
   ],
   "source": [
    "# Creating and Training the Model\n",
    "\n",
    "# Initialising the DNN\n",
    "NN_model = Sequential()\n",
    "\n",
    "# The Input Layer :\n",
    "NN_model.add(Dense(128, kernel_initializer='normal',input_dim = X_train.shape[1], activation='relu'))\n",
    "\n",
    "# The Hidden Layers :\n",
    "NN_model.add(Dense(256, kernel_initializer='normal',activation='relu'))\n",
    "NN_model.add(Dense(256, kernel_initializer='normal',activation='relu'))\n",
    "NN_model.add(Dense(256, kernel_initializer='normal',activation='relu'))\n",
    "\n",
    "# The Output Layer :\n",
    "NN_model.add(Dense(1, kernel_initializer='normal',activation='linear'))\n",
    "\n",
    "# Compile the network :\n",
    "NN_model.compile(loss='mean_absolute_error', optimizer='adam', metrics=['mean_absolute_error'])\n",
    "NN_model.summary()\n"
   ]
  },
  {
   "cell_type": "code",
   "execution_count": 6,
   "metadata": {},
   "outputs": [],
   "source": [
    "# Define a checkpoint callback\n",
    "checkpoint_name = 'Weights_Deep_Neural_Network_Selected_Features-{epoch:03d}--{val_loss:.5f}.hdf5' \n",
    "checkpoint = ModelCheckpoint(checkpoint_name, monitor='val_loss', verbose = 1, save_best_only = True, mode ='auto')\n",
    "callbacks_list = [checkpoint]"
   ]
  },
  {
   "cell_type": "code",
   "execution_count": 7,
   "metadata": {},
   "outputs": [
    {
     "name": "stdout",
     "output_type": "stream",
     "text": [
      "Train on 320000 samples, validate on 80000 samples\n",
      "Epoch 1/50\n",
      "320000/320000 [==============================] - 198s 618us/step - loss: 2942.5650 - mean_absolute_error: 2942.5627 - val_loss: 2531.0897 - val_mean_absolute_error: 2531.0891\n",
      "\n",
      "Epoch 00001: val_loss improved from inf to 2531.08974, saving model to Weights_Deep_Neural_Network_Selected_Features-001--2531.08974.hdf5\n",
      "Epoch 2/50\n",
      "320000/320000 [==============================] - 213s 666us/step - loss: 2460.1712 - mean_absolute_error: 2460.1665 - val_loss: 2365.3769 - val_mean_absolute_error: 2365.3733\n",
      "\n",
      "Epoch 00002: val_loss improved from 2531.08974 to 2365.37689, saving model to Weights_Deep_Neural_Network_Selected_Features-002--2365.37689.hdf5\n",
      "Epoch 3/50\n",
      "320000/320000 [==============================] - 212s 663us/step - loss: 2369.6698 - mean_absolute_error: 2369.6633 - val_loss: 2318.1533 - val_mean_absolute_error: 2318.1477\n",
      "\n",
      "Epoch 00003: val_loss improved from 2365.37689 to 2318.15334, saving model to Weights_Deep_Neural_Network_Selected_Features-003--2318.15334.hdf5\n",
      "Epoch 4/50\n",
      "320000/320000 [==============================] - 201s 629us/step - loss: 2308.9341 - mean_absolute_error: 2308.9341 - val_loss: 2270.3587 - val_mean_absolute_error: 2270.3584\n",
      "\n",
      "Epoch 00004: val_loss improved from 2318.15334 to 2270.35868, saving model to Weights_Deep_Neural_Network_Selected_Features-004--2270.35868.hdf5\n",
      "Epoch 5/50\n",
      "320000/320000 [==============================] - 194s 606us/step - loss: 2259.3263 - mean_absolute_error: 2259.3206 - val_loss: 2237.3472 - val_mean_absolute_error: 2237.3506\n",
      "\n",
      "Epoch 00005: val_loss improved from 2270.35868 to 2237.34721, saving model to Weights_Deep_Neural_Network_Selected_Features-005--2237.34721.hdf5\n",
      "Epoch 6/50\n",
      "320000/320000 [==============================] - 199s 621us/step - loss: 2245.5001 - mean_absolute_error: 2245.5095 - val_loss: 2251.4116 - val_mean_absolute_error: 2251.4065\n",
      "\n",
      "Epoch 00006: val_loss did not improve from 2237.34721\n",
      "Epoch 7/50\n",
      "320000/320000 [==============================] - 192s 598us/step - loss: 2236.5881 - mean_absolute_error: 2236.5732 - val_loss: 2216.1367 - val_mean_absolute_error: 2216.1355\n",
      "\n",
      "Epoch 00007: val_loss improved from 2237.34721 to 2216.13672, saving model to Weights_Deep_Neural_Network_Selected_Features-007--2216.13672.hdf5\n",
      "Epoch 8/50\n",
      "320000/320000 [==============================] - 193s 605us/step - loss: 2229.6113 - mean_absolute_error: 2229.6001 - val_loss: 2211.1797 - val_mean_absolute_error: 2211.1753\n",
      "\n",
      "Epoch 00008: val_loss improved from 2216.13672 to 2211.17966, saving model to Weights_Deep_Neural_Network_Selected_Features-008--2211.17966.hdf5\n",
      "Epoch 9/50\n",
      "320000/320000 [==============================] - 177s 554us/step - loss: 2224.4891 - mean_absolute_error: 2224.4817 - val_loss: 2206.5172 - val_mean_absolute_error: 2206.5115\n",
      "\n",
      "Epoch 00009: val_loss improved from 2211.17966 to 2206.51725, saving model to Weights_Deep_Neural_Network_Selected_Features-009--2206.51725.hdf5\n",
      "Epoch 10/50\n",
      "320000/320000 [==============================] - 173s 541us/step - loss: 2220.1345 - mean_absolute_error: 2220.1277 - val_loss: 2207.3370 - val_mean_absolute_error: 2207.3374\n",
      "\n",
      "Epoch 00010: val_loss did not improve from 2206.51725\n",
      "Epoch 11/50\n",
      "320000/320000 [==============================] - 184s 575us/step - loss: 2216.8803 - mean_absolute_error: 2216.8831 - val_loss: 2194.3373 - val_mean_absolute_error: 2194.3362\n",
      "\n",
      "Epoch 00011: val_loss improved from 2206.51725 to 2194.33730, saving model to Weights_Deep_Neural_Network_Selected_Features-011--2194.33730.hdf5\n",
      "Epoch 12/50\n",
      "320000/320000 [==============================] - 184s 576us/step - loss: 2212.2658 - mean_absolute_error: 2212.2627 - val_loss: 2204.1788 - val_mean_absolute_error: 2204.1746\n",
      "\n",
      "Epoch 00012: val_loss did not improve from 2194.33730\n",
      "Epoch 13/50\n",
      "320000/320000 [==============================] - 177s 553us/step - loss: 2208.6735 - mean_absolute_error: 2208.6711 - val_loss: 2208.4259 - val_mean_absolute_error: 2208.4263\n",
      "\n",
      "Epoch 00013: val_loss did not improve from 2194.33730\n",
      "Epoch 14/50\n",
      "320000/320000 [==============================] - 166s 520us/step - loss: 2208.9365 - mean_absolute_error: 2208.9312 - val_loss: 2201.6091 - val_mean_absolute_error: 2201.6138\n",
      "\n",
      "Epoch 00014: val_loss did not improve from 2194.33730\n",
      "Epoch 15/50\n",
      "320000/320000 [==============================] - 165s 515us/step - loss: 2208.2817 - mean_absolute_error: 2208.2815 - val_loss: 2198.7893 - val_mean_absolute_error: 2198.7925\n",
      "\n",
      "Epoch 00015: val_loss did not improve from 2194.33730\n",
      "Epoch 16/50\n",
      "320000/320000 [==============================] - 161s 502us/step - loss: 2203.4879 - mean_absolute_error: 2203.4856 - val_loss: 2224.5276 - val_mean_absolute_error: 2224.5254\n",
      "\n",
      "Epoch 00016: val_loss did not improve from 2194.33730\n",
      "Epoch 17/50\n",
      "320000/320000 [==============================] - 156s 488us/step - loss: 2202.1506 - mean_absolute_error: 2202.1577 - val_loss: 2211.3809 - val_mean_absolute_error: 2211.3811\n",
      "\n",
      "Epoch 00017: val_loss did not improve from 2194.33730\n",
      "Epoch 18/50\n",
      "320000/320000 [==============================] - 155s 486us/step - loss: 2201.1829 - mean_absolute_error: 2201.1865 - val_loss: 2220.5906 - val_mean_absolute_error: 2220.5923\n",
      "\n",
      "Epoch 00018: val_loss did not improve from 2194.33730\n",
      "Epoch 19/50\n",
      "320000/320000 [==============================] - 155s 484us/step - loss: 2198.9739 - mean_absolute_error: 2198.9741 - val_loss: 2206.5309 - val_mean_absolute_error: 2206.5305\n",
      "\n",
      "Epoch 00019: val_loss did not improve from 2194.33730\n",
      "Epoch 20/50\n",
      "320000/320000 [==============================] - 155s 485us/step - loss: 2198.5825 - mean_absolute_error: 2198.5737 - val_loss: 2210.5689 - val_mean_absolute_error: 2210.5627\n",
      "\n",
      "Epoch 00020: val_loss did not improve from 2194.33730\n",
      "Epoch 21/50\n",
      "320000/320000 [==============================] - 154s 480us/step - loss: 2198.3691 - mean_absolute_error: 2198.3628 - val_loss: 2187.1682 - val_mean_absolute_error: 2187.1724\n",
      "\n",
      "Epoch 00021: val_loss improved from 2194.33730 to 2187.16821, saving model to Weights_Deep_Neural_Network_Selected_Features-021--2187.16821.hdf5\n",
      "Epoch 22/50\n",
      "320000/320000 [==============================] - 155s 483us/step - loss: 2196.6779 - mean_absolute_error: 2196.6860 - val_loss: 2214.0422 - val_mean_absolute_error: 2214.0442\n",
      "\n",
      "Epoch 00022: val_loss did not improve from 2187.16821\n",
      "Epoch 23/50\n",
      "320000/320000 [==============================] - 154s 480us/step - loss: 2195.3666 - mean_absolute_error: 2195.3618 - val_loss: 2187.7422 - val_mean_absolute_error: 2187.7397\n",
      "\n",
      "Epoch 00024: val_loss did not improve from 2187.16821\n",
      "Epoch 25/50\n",
      "320000/320000 [==============================] - 152s 475us/step - loss: 2194.6015 - mean_absolute_error: 2194.6003 - val_loss: 2198.4807 - val_mean_absolute_error: 2198.4839\n",
      "\n",
      "Epoch 00025: val_loss did not improve from 2187.16821\n",
      "Epoch 26/50\n",
      "320000/320000 [==============================] - 152s 475us/step - loss: 2194.0973 - mean_absolute_error: 2194.0999 - val_loss: 2204.3339 - val_mean_absolute_error: 2204.3311\n",
      "\n",
      "Epoch 00026: val_loss did not improve from 2187.16821\n",
      "Epoch 27/50\n",
      "320000/320000 [==============================] - 155s 484us/step - loss: 2191.9874 - mean_absolute_error: 2191.9919 - val_loss: 2187.6795 - val_mean_absolute_error: 2187.6765\n",
      "\n",
      "Epoch 00027: val_loss did not improve from 2187.16821\n",
      "Epoch 28/50\n",
      "320000/320000 [==============================] - 154s 482us/step - loss: 2190.9741 - mean_absolute_error: 2190.9814 - val_loss: 2183.8390 - val_mean_absolute_error: 2183.8425\n",
      "\n",
      "Epoch 00028: val_loss improved from 2187.16821 to 2183.83900, saving model to Weights_Deep_Neural_Network_Selected_Features-028--2183.83900.hdf5\n",
      "Epoch 29/50\n",
      "320000/320000 [==============================] - 153s 479us/step - loss: 2191.5897 - mean_absolute_error: 2191.5835 - val_loss: 2187.3328 - val_mean_absolute_error: 2187.3298\n",
      "\n",
      "Epoch 00029: val_loss did not improve from 2183.83900\n",
      "Epoch 30/50\n",
      "320000/320000 [==============================] - 154s 480us/step - loss: 2190.0391 - mean_absolute_error: 2190.0366 - val_loss: 2181.1504 - val_mean_absolute_error: 2181.1548\n",
      "\n",
      "Epoch 00030: val_loss improved from 2183.83900 to 2181.15036, saving model to Weights_Deep_Neural_Network_Selected_Features-030--2181.15036.hdf5\n",
      "Epoch 31/50\n"
     ]
    },
    {
     "name": "stdout",
     "output_type": "stream",
     "text": [
      "320000/320000 [==============================] - 154s 481us/step - loss: 2189.2451 - mean_absolute_error: 2189.2424 - val_loss: 2188.3564 - val_mean_absolute_error: 2188.3562\n",
      "\n",
      "Epoch 00031: val_loss did not improve from 2181.15036\n",
      "Epoch 32/50\n",
      "320000/320000 [==============================] - 152s 474us/step - loss: 2189.4668 - mean_absolute_error: 2189.4607 - val_loss: 2183.3607 - val_mean_absolute_error: 2183.3611\n",
      "\n",
      "Epoch 00032: val_loss did not improve from 2181.15036\n",
      "Epoch 33/50\n",
      "320000/320000 [==============================] - 153s 478us/step - loss: 2187.7780 - mean_absolute_error: 2187.7720 - val_loss: 2181.8229 - val_mean_absolute_error: 2181.8184\n",
      "\n",
      "Epoch 00035: val_loss did not improve from 2181.15036\n",
      "Epoch 36/50\n",
      "320000/320000 [==============================] - 151s 473us/step - loss: 2186.9270 - mean_absolute_error: 2186.9280 - val_loss: 2184.2613 - val_mean_absolute_error: 2184.2649\n",
      "\n",
      "Epoch 00037: val_loss did not improve from 2181.15036\n",
      "Epoch 38/50\n",
      "320000/320000 [==============================] - 150s 470us/step - loss: 2186.5478 - mean_absolute_error: 2186.5435 - val_loss: 2196.3151 - val_mean_absolute_error: 2196.3162\n",
      "\n",
      "Epoch 00039: val_loss did not improve from 2181.15036\n",
      "Epoch 40/50\n",
      "320000/320000 [==============================] - 151s 472us/step - loss: 2185.0103 - mean_absolute_error: 2185.0076 - val_loss: 2181.5291 - val_mean_absolute_error: 2181.5325\n",
      "\n",
      "Epoch 00040: val_loss did not improve from 2181.15036\n",
      "Epoch 41/50\n",
      "320000/320000 [==============================] - 152s 474us/step - loss: 2184.9761 - mean_absolute_error: 2184.9717 - val_loss: 2190.5837 - val_mean_absolute_error: 2190.5857\n",
      "\n",
      "Epoch 00041: val_loss did not improve from 2181.15036\n",
      "Epoch 42/50\n",
      "320000/320000 [==============================] - 152s 476us/step - loss: 2185.1124 - mean_absolute_error: 2185.1104 - val_loss: 2188.6479 - val_mean_absolute_error: 2188.6494\n",
      "\n",
      "Epoch 00042: val_loss did not improve from 2181.15036\n",
      "Epoch 43/50\n",
      "320000/320000 [==============================] - 152s 475us/step - loss: 2184.8107 - mean_absolute_error: 2184.8083 - val_loss: 2179.9848 - val_mean_absolute_error: 2179.9832\n",
      "\n",
      "Epoch 00043: val_loss improved from 2181.15036 to 2179.98482, saving model to Weights_Deep_Neural_Network_Selected_Features-043--2179.98482.hdf5\n",
      "Epoch 44/50\n",
      "320000/320000 [==============================] - 151s 473us/step - loss: 2184.3005 - mean_absolute_error: 2184.3037 - val_loss: 2178.4412 - val_mean_absolute_error: 2178.4363\n",
      "\n",
      "Epoch 00044: val_loss improved from 2179.98482 to 2178.44116, saving model to Weights_Deep_Neural_Network_Selected_Features-044--2178.44116.hdf5\n",
      "Epoch 45/50\n",
      "320000/320000 [==============================] - 151s 472us/step - loss: 2182.8108 - mean_absolute_error: 2182.8081 - val_loss: 2185.4989 - val_mean_absolute_error: 2185.4998\n",
      "\n",
      "Epoch 00045: val_loss did not improve from 2178.44116\n",
      "Epoch 46/50\n",
      "320000/320000 [==============================] - 150s 470us/step - loss: 2183.2787 - mean_absolute_error: 2183.2798 - val_loss: 2176.6998 - val_mean_absolute_error: 2176.7000\n",
      "\n",
      "Epoch 00046: val_loss improved from 2178.44116 to 2176.69978, saving model to Weights_Deep_Neural_Network_Selected_Features-046--2176.69978.hdf5\n",
      "Epoch 47/50\n",
      "320000/320000 [==============================] - 152s 475us/step - loss: 2181.2112 - mean_absolute_error: 2181.2114 - val_loss: 2181.6059 - val_mean_absolute_error: 2181.6091\n",
      "\n",
      "Epoch 00049: val_loss did not improve from 2176.69978\n",
      "Epoch 50/50\n",
      "320000/320000 [==============================] - 151s 471us/step - loss: 2180.0406 - mean_absolute_error: 2180.0273 - val_loss: 2179.1846 - val_mean_absolute_error: 2179.1870\n",
      "\n",
      "Epoch 00050: val_loss did not improve from 2176.69978\n"
     ]
    },
    {
     "data": {
      "text/plain": [
       "<keras.callbacks.callbacks.History at 0x1ba3105f748>"
      ]
     },
     "execution_count": 7,
     "metadata": {},
     "output_type": "execute_result"
    }
   ],
   "source": [
    "# Train the model\n",
    "NN_model.fit(X_train, y_train, epochs=50, batch_size=10, validation_split = 0.2, callbacks=callbacks_list)"
   ]
  },
  {
   "cell_type": "code",
   "execution_count": 9,
   "metadata": {},
   "outputs": [],
   "source": [
    "# Load weights file of the best model :\n",
    "# weights_file = 'Weights_Deep_Neural_Network_Selected_Features-48--18738.19831.hdf5' # choose the best checkpoint \n",
    "# NN_model.load_weights(weights_file) # load it\n",
    "NN_model.compile(loss='mean_absolute_error', optimizer='adam', metrics=['mean_absolute_error'])"
   ]
  },
  {
   "cell_type": "code",
   "execution_count": 21,
   "metadata": {},
   "outputs": [
    {
     "data": {
      "text/plain": [
       "<matplotlib.collections.PathCollection at 0x1ba31769888>"
      ]
     },
     "execution_count": 21,
     "metadata": {},
     "output_type": "execute_result"
    },
    {
     "data": {
      "image/png": "[encoded data removed]",
      "text/plain": [
       "<Figure size 432x288 with 1 Axes>"
      ]
     },
     "metadata": {
      "needs_background": "light"
     },
     "output_type": "display_data"
    }
   ],
   "source": [
    "# Predictions from our Model\n",
    "predictions = NN_model.predict(X_test)\n",
    "plt.scatter(y_test,predictions)"
   ]
  },
  {
   "cell_type": "code",
   "execution_count": 22,
   "metadata": {},
   "outputs": [
    {
     "data": {
      "image/png": "[encoded data removed]",
      "text/plain": [
       "<Figure size 432x288 with 1 Axes>"
      ]
     },
     "metadata": {
      "needs_background": "light"
     },
     "output_type": "display_data"
    }
   ],
   "source": [
    "plt.plot(y_test, color = 'red', label = 'Real data')\n",
    "plt.plot(predictions, color = 'blue', label = 'Predicted data')\n",
    "plt.title('Prediction')\n",
    "plt.legend()\n",
    "plt.show()"
   ]
  },
  {
   "cell_type": "code",
   "execution_count": 23,
   "metadata": {},
   "outputs": [],
   "source": [
    "# sns.distplot((y_test-predictions),bins=50);"
   ]
  },
  {
   "cell_type": "code",
   "execution_count": 24,
   "metadata": {},
   "outputs": [
    {
     "name": "stdout",
     "output_type": "stream",
     "text": [
      "MAE: 2206.315892527847\n",
      "MSE: 9816791.235100085\n",
      "RMSE: 3133.175902355322\n",
      "R2_Score: 0.6132992019479494\n"
     ]
    }
   ],
   "source": [
    "from sklearn import metrics\n",
    "print('MAE:', metrics.mean_absolute_error(y_test, predictions))\n",
    "print('MSE:', metrics.mean_squared_error(y_test, predictions))\n",
    "print('RMSE:', np.sqrt(metrics.mean_squared_error(y_test, predictions)))\n",
    "print('R2_Score:', metrics.r2_score(y_test, predictions))"
   ]
  },
  {
   "cell_type": "code",
   "execution_count": null,
   "metadata": {},
   "outputs": [],
   "source": []
  }
 ],
 "metadata": {
  "kernelspec": {
   "display_name": "Python 3",
   "language": "python",
   "name": "python3"
  },
  "language_info": {
   "codemirror_mode": {
    "name": "ipython",
    "version": 3
   },
   "file_extension": ".py",
   "mimetype": "text/x-python",
   "name": "python",
   "nbconvert_exporter": "python",
   "pygments_lexer": "ipython3",
   "version": "3.7.6"
  }
 },
 "nbformat": 4,
 "nbformat_minor": 4
}
