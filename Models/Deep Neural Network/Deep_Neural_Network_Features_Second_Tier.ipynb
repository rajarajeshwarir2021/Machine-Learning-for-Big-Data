{
 "cells": [
  {
   "cell_type": "code",
   "execution_count": 1,
   "metadata": {},
   "outputs": [],
   "source": [
    "# Machine Learning Model for 'Geld ausgegeben' prediction over other parameters of Einkaufsstatistik\n",
    "\n",
    "# Importing the libraries\n",
    "\n",
    "# Load numpy\n",
    "import numpy as np\n",
    "\n",
    "# Load pandas\n",
    "import pandas as pd\n",
    "\n",
    "# Plotting library\n",
    "import seaborn as sns\n",
    "import matplotlib.pyplot as plt\n",
    "\n",
    "# sklearn library\n",
    "from sklearn.ensemble import RandomForestRegressor\n",
    "from sklearn.model_selection import train_test_split\n",
    "from sklearn.metrics import mean_absolute_error \n",
    "from sklearn.preprocessing import StandardScaler\n",
    "\n",
    "# render plots in jupyter notebook\n",
    "%matplotlib inline"
   ]
  },
  {
   "cell_type": "code",
   "execution_count": 2,
   "metadata": {},
   "outputs": [
    {
     "name": "stderr",
     "output_type": "stream",
     "text": [
      "Using TensorFlow backend.\n"
     ]
    }
   ],
   "source": [
    "# Importing the dependencies\n",
    "from keras.callbacks import ModelCheckpoint\n",
    "from keras.models import Sequential\n",
    "from keras.layers import Dense, Activation, Flatten\n",
    "import warnings \n",
    "warnings.filterwarnings('ignore')\n",
    "warnings.filterwarnings('ignore', category=DeprecationWarning)"
   ]
  },
  {
   "cell_type": "code",
   "execution_count": 3,
   "metadata": {},
   "outputs": [],
   "source": [
    "# Importing the dataset\n",
    "dataset = pd.read_csv('Preprocessed_data.csv')"
   ]
  },
  {
   "cell_type": "code",
   "execution_count": 4,
   "metadata": {},
   "outputs": [],
   "source": [
    "# Modelling\n",
    "\n",
    "# X and y arrays\n",
    "X = dataset[['Geschlecht', 'Berufskategorie', 'Produkt_Kategorie_2', '0-17', '51-55', 'A', 'B']]\n",
    "y = dataset['Geld_ausgegeben']\n",
    "\n",
    "# Train Test Split\n",
    "X_train, X_test, y_train, y_test = train_test_split(X, y, test_size=0.20)\n",
    "\n",
    "sc = StandardScaler()\n",
    "X_train = sc.fit_transform(X_train)\n",
    "X_test = sc.transform(X_test)"
   ]
  },
  {
   "cell_type": "code",
   "execution_count": 5,
   "metadata": {},
   "outputs": [
    {
     "name": "stdout",
     "output_type": "stream",
     "text": [
      "Model: \"sequential_1\"\n",
      "_________________________________________________________________\n",
      "Layer (type)                 Output Shape              Param #   \n",
      "=================================================================\n",
      "dense_1 (Dense)              (None, 128)               1024      \n",
      "_________________________________________________________________\n",
      "dense_2 (Dense)              (None, 256)               33024     \n",
      "_________________________________________________________________\n",
      "dense_3 (Dense)              (None, 256)               65792     \n",
      "_________________________________________________________________\n",
      "dense_4 (Dense)              (None, 256)               65792     \n",
      "_________________________________________________________________\n",
      "dense_5 (Dense)              (None, 1)                 257       \n",
      "=================================================================\n",
      "Total params: 165,889\n",
      "Trainable params: 165,889\n",
      "Non-trainable params: 0\n",
      "_________________________________________________________________\n"
     ]
    }
   ],
   "source": [
    "# Creating and Training the Model\n",
    "\n",
    "# Initialising the DNN\n",
    "NN_model = Sequential()\n",
    "\n",
    "# The Input Layer :\n",
    "NN_model.add(Dense(128, kernel_initializer='normal',input_dim = X_train.shape[1], activation='relu'))\n",
    "\n",
    "# The Hidden Layers :\n",
    "NN_model.add(Dense(256, kernel_initializer='normal',activation='relu'))\n",
    "NN_model.add(Dense(256, kernel_initializer='normal',activation='relu'))\n",
    "NN_model.add(Dense(256, kernel_initializer='normal',activation='relu'))\n",
    "\n",
    "# The Output Layer :\n",
    "NN_model.add(Dense(1, kernel_initializer='normal',activation='linear'))\n",
    "\n",
    "# Compile the network :\n",
    "NN_model.compile(loss='mean_absolute_error', optimizer='adam', metrics=['mean_absolute_error'])\n",
    "NN_model.summary()\n"
   ]
  },
  {
   "cell_type": "code",
   "execution_count": 6,
   "metadata": {},
   "outputs": [],
   "source": [
    "# Define a checkpoint callback\n",
    "checkpoint_name = 'Weights_Deep_Neural_Network_Features_Second_Tier-{epoch:03d}--{val_loss:.5f}.hdf5' \n",
    "checkpoint = ModelCheckpoint(checkpoint_name, monitor='val_loss', verbose = 1, save_best_only = True, mode ='auto')\n",
    "callbacks_list = [checkpoint]"
   ]
  },
  {
   "cell_type": "code",
   "execution_count": 7,
   "metadata": {},
   "outputs": [
    {
     "name": "stdout",
     "output_type": "stream",
     "text": [
      "Train on 320000 samples, validate on 80000 samples\n",
      "Epoch 1/50\n",
      "320000/320000 [==============================] - 203s 635us/step - loss: 3865.9778 - mean_absolute_error: 3865.9763 - val_loss: 3621.8138 - val_mean_absolute_error: 3621.8145\n",
      "\n",
      "Epoch 00001: val_loss improved from inf to 3621.81382, saving model to Weights_Deep_Neural_Network_Features_Second_Tier-001--3621.81382.hdf5\n",
      "Epoch 2/50\n",
      "320000/320000 [==============================] - 214s 667us/step - loss: 3614.6508 - mean_absolute_error: 3614.6533 - val_loss: 3649.0088 - val_mean_absolute_error: 3649.0051\n",
      "\n",
      "Epoch 00002: val_loss did not improve from 3621.81382\n",
      "Epoch 3/50\n",
      "320000/320000 [==============================] - 214s 670us/step - loss: 3593.4492 - mean_absolute_error: 3593.4456 - val_loss: 3572.8107 - val_mean_absolute_error: 3572.8113\n",
      "\n",
      "Epoch 00003: val_loss improved from 3621.81382 to 3572.81069, saving model to Weights_Deep_Neural_Network_Features_Second_Tier-003--3572.81069.hdf5\n",
      "Epoch 4/50\n",
      "320000/320000 [==============================] - 199s 623us/step - loss: 3584.0257 - mean_absolute_error: 3584.0205 - val_loss: 3586.1031 - val_mean_absolute_error: 3586.1091\n",
      "\n",
      "Epoch 00004: val_loss did not improve from 3572.81069\n",
      "Epoch 5/50\n",
      "320000/320000 [==============================] - 196s 614us/step - loss: 3579.3255 - mean_absolute_error: 3579.3269 - val_loss: 3569.5227 - val_mean_absolute_error: 3569.5208\n",
      "\n",
      "Epoch 00005: val_loss improved from 3572.81069 to 3569.52271, saving model to Weights_Deep_Neural_Network_Features_Second_Tier-005--3569.52271.hdf5\n",
      "Epoch 6/50\n",
      "320000/320000 [==============================] - 199s 622us/step - loss: 3575.3408 - mean_absolute_error: 3575.3457 - val_loss: 3574.5503 - val_mean_absolute_error: 3574.5481\n",
      "\n",
      "Epoch 00006: val_loss did not improve from 3569.52271\n",
      "Epoch 7/50\n",
      "320000/320000 [==============================] - 193s 604us/step - loss: 3572.7785 - mean_absolute_error: 3572.7727 - val_loss: 3562.8230 - val_mean_absolute_error: 3562.8269\n",
      "\n",
      "Epoch 00007: val_loss improved from 3569.52271 to 3562.82302, saving model to Weights_Deep_Neural_Network_Features_Second_Tier-007--3562.82302.hdf5\n",
      "Epoch 8/50\n",
      "320000/320000 [==============================] - 195s 609us/step - loss: 3568.5672 - mean_absolute_error: 3568.5608 - val_loss: 3588.3608 - val_mean_absolute_error: 3588.3640\n",
      "\n",
      "Epoch 00008: val_loss did not improve from 3562.82302\n",
      "Epoch 9/50\n",
      "320000/320000 [==============================] - 179s 559us/step - loss: 3566.7454 - mean_absolute_error: 3566.7251 - val_loss: 3563.9754 - val_mean_absolute_error: 3563.9773\n",
      "\n",
      "Epoch 00009: val_loss did not improve from 3562.82302\n",
      "Epoch 10/50\n",
      "320000/320000 [==============================] - 177s 552us/step - loss: 3563.5369 - mean_absolute_error: 3563.5364 - val_loss: 3550.4792 - val_mean_absolute_error: 3550.4761\n",
      "\n",
      "Epoch 00010: val_loss improved from 3562.82302 to 3550.47915, saving model to Weights_Deep_Neural_Network_Features_Second_Tier-010--3550.47915.hdf5\n",
      "Epoch 11/50\n",
      "320000/320000 [==============================] - 190s 593us/step - loss: 3562.1676 - mean_absolute_error: 3562.1624 - val_loss: 3554.7154 - val_mean_absolute_error: 3554.7100\n",
      "\n",
      "Epoch 00011: val_loss did not improve from 3550.47915\n",
      "Epoch 12/50\n",
      "320000/320000 [==============================] - 167s 522us/step - loss: 3558.7124 - mean_absolute_error: 3558.7148 - val_loss: 3550.6349 - val_mean_absolute_error: 3550.6345\n",
      "\n",
      "Epoch 00014: val_loss did not improve from 3550.47915\n",
      "Epoch 15/50\n",
      "320000/320000 [==============================] - 153s 477us/step - loss: 3511.2032 - mean_absolute_error: 3511.2056 - val_loss: 3507.1376 - val_mean_absolute_error: 3507.1377\n",
      "\n",
      "Epoch 00045: val_loss improved from 3509.67446 to 3507.13765, saving model to Weights_Deep_Neural_Network_Features_Second_Tier-045--3507.13765.hdf5\n",
      "Epoch 46/50\n",
      "320000/320000 [==============================] - 152s 475us/step - loss: 3510.8398 - mean_absolute_error: 3510.8269 - val_loss: 3508.1882 - val_mean_absolute_error: 3508.1868\n",
      "\n",
      "Epoch 00046: val_loss did not improve from 3507.13765\n",
      "Epoch 47/50\n",
      "320000/320000 [==============================] - 153s 477us/step - loss: 3509.6816 - mean_absolute_error: 3509.6768 - val_loss: 3505.2400 - val_mean_absolute_error: 3505.2437\n",
      "\n",
      "Epoch 00048: val_loss did not improve from 3505.11042\n",
      "Epoch 49/50\n",
      "320000/320000 [==============================] - 152s 476us/step - loss: 3509.6984 - mean_absolute_error: 3509.6912 - val_loss: 3507.4811 - val_mean_absolute_error: 3507.4780\n",
      "\n",
      "Epoch 00049: val_loss did not improve from 3505.11042\n",
      "Epoch 50/50\n",
      "320000/320000 [==============================] - 145s 455us/step - loss: 3508.6543 - mean_absolute_error: 3508.6455 - val_loss: 3503.3010 - val_mean_absolute_error: 3503.2957\n",
      "\n",
      "Epoch 00050: val_loss improved from 3505.11042 to 3503.30095, saving model to Weights_Deep_Neural_Network_Features_Second_Tier-050--3503.30095.hdf5\n"
     ]
    },
    {
     "data": {
      "text/plain": [
       "<keras.callbacks.callbacks.History at 0x24fa7d70848>"
      ]
     },
     "execution_count": 7,
     "metadata": {},
     "output_type": "execute_result"
    }
   ],
   "source": [
    "# Train the model\n",
    "NN_model.fit(X_train, y_train, epochs=50, batch_size=10, validation_split = 0.2, callbacks=callbacks_list)"
   ]
  },
  {
   "cell_type": "code",
   "execution_count": 9,
   "metadata": {},
   "outputs": [],
   "source": [
    "# Load weights file of the best model :\n",
    "# weights_file = 'Weights_Deep_Neural_Network_Features_Second_Tier-48--18738.19831.hdf5' # choose the best checkpoint \n",
    "# NN_model.load_weights(weights_file) # load it\n",
    "NN_model.compile(loss='mean_absolute_error', optimizer='adam', metrics=['mean_absolute_error'])"
   ]
  },
  {
   "cell_type": "code",
   "execution_count": 10,
   "metadata": {},
   "outputs": [
    {
     "data": {
      "text/plain": [
       "<matplotlib.collections.PathCollection at 0x24fa83b2f08>"
      ]
     },
     "execution_count": 10,
     "metadata": {},
     "output_type": "execute_result"
    },
    {
     "data": {
      "image/png": "[encoded data removed]",
      "text/plain": [
       "<Figure size 432x288 with 1 Axes>"
      ]
     },
     "metadata": {
      "needs_background": "light"
     },
     "output_type": "display_data"
    }
   ],
   "source": [
    "# Predictions from our Model\n",
    "predictions = NN_model.predict(X_test)\n",
    "plt.scatter(y_test,predictions)"
   ]
  },
  {
   "cell_type": "code",
   "execution_count": 11,
   "metadata": {},
   "outputs": [
    {
     "data": {
      "image/png": "[encoded data removed]",
      "text/plain": [
       "<Figure size 432x288 with 1 Axes>"
      ]
     },
     "metadata": {
      "needs_background": "light"
     },
     "output_type": "display_data"
    }
   ],
   "source": [
    "plt.plot(y_test, color = 'red', label = 'Real data')\n",
    "plt.plot(predictions, color = 'blue', label = 'Predicted data')\n",
    "plt.title('Prediction')\n",
    "plt.legend()\n",
    "plt.show()"
   ]
  },
  {
   "cell_type": "code",
   "execution_count": 13,
   "metadata": {},
   "outputs": [],
   "source": [
    "# sns.distplot((y_test-predictions),bins=50);"
   ]
  },
  {
   "cell_type": "code",
   "execution_count": 14,
   "metadata": {},
   "outputs": [
    {
     "name": "stdout",
     "output_type": "stream",
     "text": [
      "MAE: 3521.3530844329835\n",
      "MSE: 22268191.923658665\n",
      "RMSE: 4718.918512080778\n",
      "R2_Score: 0.12394237269345953\n"
     ]
    }
   ],
   "source": [
    "from sklearn import metrics\n",
    "print('MAE:', metrics.mean_absolute_error(y_test, predictions))\n",
    "print('MSE:', metrics.mean_squared_error(y_test, predictions))\n",
    "print('RMSE:', np.sqrt(metrics.mean_squared_error(y_test, predictions)))\n",
    "print('R2_Score:', metrics.r2_score(y_test, predictions))"
   ]
  },
  {
   "cell_type": "code",
   "execution_count": null,
   "metadata": {},
   "outputs": [],
   "source": []
  }
 ],
 "metadata": {
  "kernelspec": {
   "display_name": "Python 3",
   "language": "python",
   "name": "python3"
  },
  "language_info": {
   "codemirror_mode": {
    "name": "ipython",
    "version": 3
   },
   "file_extension": ".py",
   "mimetype": "text/x-python",
   "name": "python",
   "nbconvert_exporter": "python",
   "pygments_lexer": "ipython3",
   "version": "3.7.6"
  }
 },
 "nbformat": 4,
 "nbformat_minor": 4
}
