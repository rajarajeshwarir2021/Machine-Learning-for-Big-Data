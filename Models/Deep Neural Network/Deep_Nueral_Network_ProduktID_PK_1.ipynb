{
 "cells": [
  {
   "cell_type": "code",
   "execution_count": 1,
   "metadata": {},
   "outputs": [],
   "source": [
    "# Machine Learning Model for 'Geld ausgegeben' prediction over other parameters of Einkaufsstatistik\n",
    "\n",
    "# Importing the libraries\n",
    "\n",
    "# Load numpy\n",
    "import numpy as np\n",
    "\n",
    "# Load pandas\n",
    "import pandas as pd\n",
    "\n",
    "# Plotting library\n",
    "import seaborn as sns\n",
    "import matplotlib.pyplot as plt\n",
    "\n",
    "# sklearn library\n",
    "from sklearn.ensemble import RandomForestRegressor\n",
    "from sklearn.model_selection import train_test_split\n",
    "from sklearn.metrics import mean_absolute_error \n",
    "from sklearn.preprocessing import StandardScaler\n",
    "\n",
    "# render plots in jupyter notebook\n",
    "%matplotlib inline"
   ]
  },
  {
   "cell_type": "code",
   "execution_count": 2,
   "metadata": {},
   "outputs": [
    {
     "name": "stderr",
     "output_type": "stream",
     "text": [
      "Using TensorFlow backend.\n"
     ]
    }
   ],
   "source": [
    "# Importing the dependencies\n",
    "from keras.callbacks import ModelCheckpoint\n",
    "from keras.models import Sequential\n",
    "from keras.layers import Dense, Activation, Flatten\n",
    "import warnings \n",
    "warnings.filterwarnings('ignore')\n",
    "warnings.filterwarnings('ignore', category=DeprecationWarning)"
   ]
  },
  {
   "cell_type": "code",
   "execution_count": 3,
   "metadata": {},
   "outputs": [],
   "source": [
    "# Importing the dataset\n",
    "dataset = pd.read_csv('Preprocessed_data.csv')"
   ]
  },
  {
   "cell_type": "code",
   "execution_count": 4,
   "metadata": {},
   "outputs": [],
   "source": [
    "# Modelling\n",
    "\n",
    "# X and y arrays\n",
    "X = dataset[['ProduktID', 'Produkt_Kategorie_1']]\n",
    "y = dataset['Geld_ausgegeben']\n",
    "\n",
    "# Train Test Split\n",
    "X_train, X_test, y_train, y_test = train_test_split(X, y, test_size=0.20)\n",
    "\n",
    "sc = StandardScaler()\n",
    "X_train = sc.fit_transform(X_train)\n",
    "X_test = sc.transform(X_test)"
   ]
  },
  {
   "cell_type": "code",
   "execution_count": 5,
   "metadata": {},
   "outputs": [
    {
     "name": "stdout",
     "output_type": "stream",
     "text": [
      "Model: \"sequential_1\"\n",
      "_________________________________________________________________\n",
      "Layer (type)                 Output Shape              Param #   \n",
      "=================================================================\n",
      "dense_1 (Dense)              (None, 128)               384       \n",
      "_________________________________________________________________\n",
      "dense_2 (Dense)              (None, 256)               33024     \n",
      "_________________________________________________________________\n",
      "dense_3 (Dense)              (None, 256)               65792     \n",
      "_________________________________________________________________\n",
      "dense_4 (Dense)              (None, 256)               65792     \n",
      "_________________________________________________________________\n",
      "dense_5 (Dense)              (None, 1)                 257       \n",
      "=================================================================\n",
      "Total params: 165,249\n",
      "Trainable params: 165,249\n",
      "Non-trainable params: 0\n",
      "_________________________________________________________________\n"
     ]
    }
   ],
   "source": [
    "# Creating and Training the Model\n",
    "\n",
    "# Initialising the DNN\n",
    "NN_model = Sequential()\n",
    "\n",
    "# The Input Layer :\n",
    "NN_model.add(Dense(128, kernel_initializer='normal',input_dim = X_train.shape[1], activation='relu'))\n",
    "\n",
    "# The Hidden Layers :\n",
    "NN_model.add(Dense(256, kernel_initializer='normal',activation='relu'))\n",
    "NN_model.add(Dense(256, kernel_initializer='normal',activation='relu'))\n",
    "NN_model.add(Dense(256, kernel_initializer='normal',activation='relu'))\n",
    "\n",
    "# The Output Layer :\n",
    "NN_model.add(Dense(1, kernel_initializer='normal',activation='linear'))\n",
    "\n",
    "# Compile the network :\n",
    "NN_model.compile(loss='mean_absolute_error', optimizer='adam', metrics=['mean_absolute_error'])\n",
    "NN_model.summary()\n"
   ]
  },
  {
   "cell_type": "code",
   "execution_count": 6,
   "metadata": {},
   "outputs": [],
   "source": [
    "# Define a checkpoint callback\n",
    "checkpoint_name = 'Weights_Deep_Neural_Network_All_Features-{epoch:03d}--{val_loss:.5f}.hdf5' \n",
    "checkpoint = ModelCheckpoint(checkpoint_name, monitor='val_loss', verbose = 1, save_best_only = True, mode ='auto')\n",
    "callbacks_list = [checkpoint]"
   ]
  },
  {
   "cell_type": "code",
   "execution_count": null,
   "metadata": {},
   "outputs": [
    {
     "name": "stdout",
     "output_type": "stream",
     "text": [
      "Train on 320000 samples, validate on 80000 samples\n",
      "Epoch 1/50\n",
      "320000/320000 [==============================] - 158s 493us/step - loss: 2913.4742 - mean_absolute_error: 2913.4822 - val_loss: 2739.3325 - val_mean_absolute_error: 2739.3313\n",
      "\n",
      "Epoch 00001: val_loss improved from inf to 2739.33252, saving model to Weights_Deep_Neural_Network_All_Features-001--2739.33252.hdf5\n",
      "Epoch 2/50\n",
      "320000/320000 [==============================] - 156s 489us/step - loss: 2556.8796 - mean_absolute_error: 2556.8645 - val_loss: 2336.0775 - val_mean_absolute_error: 2336.0784\n",
      "\n",
      "Epoch 00002: val_loss improved from 2739.33252 to 2336.07753, saving model to Weights_Deep_Neural_Network_All_Features-002--2336.07753.hdf5\n",
      "Epoch 3/50\n",
      "320000/320000 [==============================] - 157s 490us/step - loss: 2360.9159 - mean_absolute_error: 2360.9180 - val_loss: 2258.7289 - val_mean_absolute_error: 2258.7297\n",
      "\n",
      "Epoch 00003: val_loss improved from 2336.07753 to 2258.72893, saving model to Weights_Deep_Neural_Network_All_Features-003--2258.72893.hdf5\n",
      "Epoch 4/50\n",
      "320000/320000 [==============================] - 157s 490us/step - loss: 2284.0690 - mean_absolute_error: 2284.0679 - val_loss: 2256.2219 - val_mean_absolute_error: 2256.2239\n",
      "\n",
      "Epoch 00004: val_loss improved from 2258.72893 to 2256.22193, saving model to Weights_Deep_Neural_Network_All_Features-004--2256.22193.hdf5\n",
      "Epoch 5/50\n",
      "320000/320000 [==============================] - 156s 486us/step - loss: 2259.7543 - mean_absolute_error: 2259.7612 - val_loss: 2262.0254 - val_mean_absolute_error: 2262.0234\n",
      "\n",
      "Epoch 00005: val_loss did not improve from 2256.22193\n",
      "Epoch 6/50\n",
      "320000/320000 [==============================] - 5183s 16ms/step - loss: 2252.3781 - mean_absolute_error: 2252.3821 - val_loss: 2245.1134 - val_mean_absolute_error: 2245.1094\n",
      "\n",
      "Epoch 00006: val_loss improved from 2256.22193 to 2245.11337, saving model to Weights_Deep_Neural_Network_All_Features-006--2245.11337.hdf5\n",
      "Epoch 7/50\n",
      "320000/320000 [==============================] - 151s 472us/step - loss: 2242.6821 - mean_absolute_error: 2242.6829 - val_loss: 2234.2795 - val_mean_absolute_error: 2234.2800\n",
      "\n",
      "Epoch 00007: val_loss improved from 2245.11337 to 2234.27948, saving model to Weights_Deep_Neural_Network_All_Features-007--2234.27948.hdf5\n",
      "Epoch 8/50\n",
      "320000/320000 [==============================] - 173s 540us/step - loss: 2235.6689 - mean_absolute_error: 2235.6721 - val_loss: 2237.3848 - val_mean_absolute_error: 2237.3889\n",
      "\n",
      "Epoch 00008: val_loss did not improve from 2234.27948\n",
      "Epoch 9/50\n",
      "320000/320000 [==============================] - 172s 537us/step - loss: 2228.8456 - mean_absolute_error: 2228.8525 - val_loss: 2234.7717 - val_mean_absolute_error: 2234.7712\n",
      "\n",
      "Epoch 00009: val_loss did not improve from 2234.27948\n",
      "Epoch 10/50\n",
      "320000/320000 [==============================] - 170s 532us/step - loss: 2225.2226 - mean_absolute_error: 2225.2202 - val_loss: 2221.8731 - val_mean_absolute_error: 2221.8760\n",
      "\n",
      "Epoch 00010: val_loss improved from 2234.27948 to 2221.87305, saving model to Weights_Deep_Neural_Network_All_Features-010--2221.87305.hdf5\n",
      "Epoch 11/50\n",
      "320000/320000 [==============================] - 170s 531us/step - loss: 2220.8936 - mean_absolute_error: 2220.8748 - val_loss: 2210.9220 - val_mean_absolute_error: 2210.9231\n",
      "\n",
      "Epoch 00011: val_loss improved from 2221.87305 to 2210.92196, saving model to Weights_Deep_Neural_Network_All_Features-011--2210.92196.hdf5\n",
      "Epoch 12/50\n",
      "320000/320000 [==============================] - 169s 528us/step - loss: 2217.5756 - mean_absolute_error: 2217.5742 - val_loss: 2210.5363 - val_mean_absolute_error: 2210.5337\n",
      "\n",
      "Epoch 00012: val_loss improved from 2210.92196 to 2210.53633, saving model to Weights_Deep_Neural_Network_All_Features-012--2210.53633.hdf5\n",
      "Epoch 13/50\n",
      "320000/320000 [==============================] - 170s 530us/step - loss: 2214.9090 - mean_absolute_error: 2214.9077 - val_loss: 2185.5591 - val_mean_absolute_error: 2185.5569\n",
      "\n",
      "Epoch 00013: val_loss improved from 2210.53633 to 2185.55914, saving model to Weights_Deep_Neural_Network_All_Features-013--2185.55914.hdf5\n",
      "Epoch 14/50\n",
      "320000/320000 [==============================] - 458s 1ms/step - loss: 2211.6811 - mean_absolute_error: 2211.6816 - val_loss: 2199.5039 - val_mean_absolute_error: 2199.5090\n",
      "\n",
      "Epoch 00014: val_loss did not improve from 2185.55914\n",
      "Epoch 15/50\n",
      "320000/320000 [==============================] - 4350s 14ms/step - loss: 2210.4765 - mean_absolute_error: 2210.4612 - val_loss: 2185.8689 - val_mean_absolute_error: 2185.8682\n",
      "\n",
      "Epoch 00015: val_loss did not improve from 2185.55914\n",
      "Epoch 16/50\n",
      "194730/320000 [=================>............] - ETA: 1:08 - loss: 2207.4907 - mean_absolute_error: 2207.4875- ETA: 1:11 - "
     ]
    }
   ],
   "source": [
    "# Train the model\n",
    "NN_model.fit(X_train, y_train, epochs=50, batch_size=10, validation_split = 0.2, callbacks=callbacks_list)"
   ]
  },
  {
   "cell_type": "code",
   "execution_count": null,
   "metadata": {},
   "outputs": [],
   "source": [
    "# Load weights file of the best model :\n",
    "# weights_file = 'Weights_Deep_Neural_Network_All_Features-50--2083.24621.hdf5' # choose the best checkpoint \n",
    "# NN_model.load_weights(weights_file) # load it\n",
    "NN_model.compile(loss='mean_absolute_error', optimizer='adam', metrics=['mean_absolute_error'])"
   ]
  },
  {
   "cell_type": "code",
   "execution_count": null,
   "metadata": {},
   "outputs": [],
   "source": [
    "# Predictions from our Model\n",
    "predictions = NN_model.predict(X_test)\n",
    "#plt.scatter(y_test,predictions)\n",
    "plt.plot(y_test, color = 'red', label = 'Real data')\n",
    "plt.plot(predictions, color = 'blue', label = 'Predicted data')\n",
    "plt.title('Prediction')\n",
    "plt.legend()\n",
    "plt.show()"
   ]
  },
  {
   "cell_type": "code",
   "execution_count": null,
   "metadata": {},
   "outputs": [],
   "source": [
    "# sns.distplot((y_test-predictions),bins=50);"
   ]
  },
  {
   "cell_type": "code",
   "execution_count": null,
   "metadata": {},
   "outputs": [],
   "source": [
    "from sklearn import metrics\n",
    "print('MAE:', metrics.mean_absolute_error(y_test, predictions))\n",
    "print('MSE:', metrics.mean_squared_error(y_test, predictions))\n",
    "print('RMSE:', np.sqrt(metrics.mean_squared_error(y_test, predictions)))\n",
    "print('R2_Score:', metrics.r2_score(y_test, predictions))"
   ]
  },
  {
   "cell_type": "code",
   "execution_count": null,
   "metadata": {},
   "outputs": [],
   "source": []
  }
 ],
 "metadata": {
  "kernelspec": {
   "display_name": "Python 3",
   "language": "python",
   "name": "python3"
  },
  "language_info": {
   "codemirror_mode": {
    "name": "ipython",
    "version": 3
   },
   "file_extension": ".py",
   "mimetype": "text/x-python",
   "name": "python",
   "nbconvert_exporter": "python",
   "pygments_lexer": "ipython3",
   "version": "3.7.6"
  }
 },
 "nbformat": 4,
 "nbformat_minor": 4
}
